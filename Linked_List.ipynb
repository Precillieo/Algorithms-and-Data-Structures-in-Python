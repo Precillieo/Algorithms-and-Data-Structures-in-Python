{
  "nbformat": 4,
  "nbformat_minor": 0,
  "metadata": {
    "colab": {
      "name": "Linked List.ipynb",
      "provenance": [],
      "collapsed_sections": [],
      "authorship_tag": "ABX9TyOzlGoS+cd2/leM2i9/8dlB",
      "include_colab_link": true
    },
    "kernelspec": {
      "name": "python3",
      "display_name": "Python 3"
    },
    "language_info": {
      "name": "python"
    }
  },
  "cells": [
    {
      "cell_type": "markdown",
      "metadata": {
        "id": "view-in-github",
        "colab_type": "text"
      },
      "source": [
        "<a href=\"https://colab.research.google.com/github/Precillieo/Algorithms-and-Data-Structures-in-Python/blob/main/Linked_List.ipynb\" target=\"_parent\"><img src=\"https://colab.research.google.com/assets/colab-badge.svg\" alt=\"Open In Colab\"/></a>"
      ]
    },
    {
      "cell_type": "markdown",
      "source": [
        "#Linked List\n",
        "\n",
        "Full implementation of a LinkedList Node with functionalities, such as `Addition(Insertion)` and `Deletion` at different locations."
      ],
      "metadata": {
        "id": "m0r29r0bqY5X"
      }
    },
    {
      "cell_type": "code",
      "metadata": {
        "colab": {
          "base_uri": "https://localhost:8080/"
        },
        "id": "gAmrnFJC0y3h",
        "outputId": "2ae726df-2b36-44ef-f106-306600c792e6"
      },
      "source": [
        "class Node():\n",
        "  def __init__(self, data):\n",
        "    self.data= data\n",
        "    self.next = None\n",
        "\n",
        "class LinkedList():\n",
        "  def __init__(self):\n",
        "    self.head= None\n",
        "\n",
        "  def print_LL(self):\n",
        "    if self.head is None:\n",
        "      print(\"LinkedList is empty\")\n",
        "    else:\n",
        "      n= self.head\n",
        "      while n is not None:\n",
        "        print(n.data, '---->', end= ' ')\n",
        "        n= n.next\n",
        "\n",
        "  def add_begin(self, data):\n",
        "    new_node= Node(data)\n",
        "    new_node.next= self.head\n",
        "    self.head= new_node\n",
        "  \n",
        "  def add_end(self, data):\n",
        "    new_node= Node(data)\n",
        "    if self.head is None:\n",
        "      self.head= new_node\n",
        "    else:\n",
        "      n= self.head\n",
        "      while n.next is not None:\n",
        "        n= n.next\n",
        "      n.next= new_node\n",
        "    \n",
        "  def add_after(self, data, x):\n",
        "    n= self.head\n",
        "    while n is not None:\n",
        "      if x == n.data:\n",
        "        break\n",
        "      n= n.next\n",
        "    if n is None:\n",
        "      print(\"Node is not present in LL\")\n",
        "    else:\n",
        "      new_node= Node(data)\n",
        "      new_node.next= n.next\n",
        "      n.next = new_node\n",
        "\n",
        "  def add_before(self, data, x):\n",
        "    if self.head is None:\n",
        "      print(\"LinkedList is empty!\")\n",
        "    if self.head.data ==x:\n",
        "      new_node= Node(data)\n",
        "      new_node.next= self.head\n",
        "      self.head= new_node\n",
        "      return \n",
        "    n= self.head\n",
        "    while n.next is not None:\n",
        "      if n.next.data == x:\n",
        "        break\n",
        "      n= n.next\n",
        "    if n.next is None:\n",
        "      print(\"Node is not found!\")\n",
        "    else:\n",
        "      new_node= Node(data)\n",
        "      new_node.next = n.next\n",
        "      n.next= new_node\n",
        "\n",
        "  def delete_begin(self):\n",
        "    if self.head is None:\n",
        "      print(\"LL is empty so we can't delete nodes\")\n",
        "    else:\n",
        "      self.head= self.head.next\n",
        "\n",
        "  def delete_end(self):\n",
        "    if self.head is None:\n",
        "      print(\"LL is empty so we can't delete nodes\")\n",
        "    elif self.head.next is None:\n",
        "      self.head= None\n",
        "    else:\n",
        "      n= self.head\n",
        "      while n.next.next is not None:\n",
        "        n= n.next\n",
        "      n.next= None\n",
        "\n",
        "  def delete_by_value(self, x):\n",
        "    if self.head is None:\n",
        "      print(\"Can't delete, LL is empty!\")\n",
        "      return\n",
        "    if self.head.data == x:\n",
        "      self.head= self.head.next\n",
        "      return\n",
        "    n= self.head\n",
        "    while n.next is not None:\n",
        "      if x == n.next.data:\n",
        "        break\n",
        "      n= n.next\n",
        "    if n.next is None:\n",
        "      print(\"Node is not present!\")\n",
        "    else:\n",
        "      n.next= n.next.next\n",
        "    \n",
        "node= LinkedList()\n",
        "node.add_begin(10)\n",
        "node.add_begin(30)\n",
        "node.delete_by_value(20)\n",
        "node.print_LL()"
      ],
      "execution_count": 1,
      "outputs": [
        {
          "output_type": "stream",
          "name": "stdout",
          "text": [
            "Node is not present!\n",
            "30 ----> 10 ----> "
          ]
        }
      ]
    },
    {
      "cell_type": "code",
      "metadata": {
        "id": "DIbAqEPXGEG6"
      },
      "source": [
        "#Find the minimum and maximum node of a Binary Search Tree\n",
        "def findMax(root):\n",
        "  if root == None:\n",
        "    return 0\n",
        "  res= root.data\n",
        "  lres= findMax(root.left)\n",
        "  rres= findMax(root.right)\n",
        "  if lres > res:\n",
        "    res= lres\n",
        "  if rres > res:\n",
        "    res= rres\n",
        "  return res\n",
        "\n",
        "#Minimum is less than instead of greater than"
      ],
      "execution_count": 3,
      "outputs": []
    }
  ]
}