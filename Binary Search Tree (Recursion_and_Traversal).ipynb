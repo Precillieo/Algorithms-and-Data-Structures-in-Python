{
  "nbformat": 4,
  "nbformat_minor": 0,
  "metadata": {
    "colab": {
      "name": "Binary Search Tree_ Recursion and Traverse.ipynb",
      "provenance": [],
      "collapsed_sections": [
        "HoxttFLILw6Z",
        "1GptS8EcT2el",
        "XzbLBBb4VueX",
        "guQj3-POYZXz",
        "FZQS470hZI2A",
        "N_ZY3JI4dgIH"
      ],
      "authorship_tag": "ABX9TyOS4jDIIfcmp47CSpzatAIU",
      "include_colab_link": true
    },
    "kernelspec": {
      "name": "python3",
      "display_name": "Python 3"
    },
    "language_info": {
      "name": "python"
    }
  },
  "cells": [
    {
      "cell_type": "markdown",
      "metadata": {
        "id": "view-in-github",
        "colab_type": "text"
      },
      "source": [
        "<a href=\"https://colab.research.google.com/github/Precillieo/Algorithms-and-Data-Structures-in-Python/blob/main/Binary%20Search%20Tree%20(Recursion_and_Traversal).ipynb\" target=\"_parent\"><img src=\"https://colab.research.google.com/assets/colab-badge.svg\" alt=\"Open In Colab\"/></a>"
      ]
    },
    {
      "cell_type": "markdown",
      "source": [
        "# Binary Search Tree"
      ],
      "metadata": {
        "id": "ew4uLYkhpKbq"
      }
    },
    {
      "cell_type": "markdown",
      "metadata": {
        "id": "ba2kQPTmBusf"
      },
      "source": [
        "# Problem\n",
        "In this notebook, we'll focus on solving the following problem:\n",
        "\n",
        "QUESTION 1: As a senior backend engineer at Jovian, you are tasked with developing a fast in-memory data structure to manage profile information (username, name and email) for 100 million users. It should allow the following operations to be performed efficiently:\n",
        "\n",
        "1. Insert the profile information for a new user.\n",
        "2. Find the profile information of a user, given their username\n",
        "3. Update the profile information of a user, given their usrname\n",
        "4. List all the users of the platform, sorted by username\n",
        "You can assume that usernames are unique.\n",
        "\n",
        "Along the way, we will also solve several other questions related to binary trees and binary search trees that are often asked in coding interviews and assessments."
      ]
    },
    {
      "cell_type": "markdown",
      "metadata": {
        "id": "qZ1FKUpuCVmC"
      },
      "source": [
        "# The Method\n",
        "Here's a systematic strategy we'll apply for solving problems:\n",
        "\n",
        "1. State the problem clearly. Identify the input & output formats.\n",
        "2. Come up with some example inputs & outputs. Try to cover all edge cases.\n",
        "3. Come up with a correct solution for the problem. State it in plain English.\n",
        "4. Implement the solution and test it using example inputs. Fix bugs, if any.\n",
        "5. Analyze the algorithm's complexity and identify inefficiencies, if any.\n",
        "6. Apply the right technique to overcome the inefficiency. Repeat steps 3 to 6."
      ]
    },
    {
      "cell_type": "code",
      "metadata": {
        "id": "oO4koIrX-Wrb"
      },
      "source": [
        "#Problem\n",
        "\n",
        "#We need to create a data structure which can store 100 million records and perform insertion, search, update, and list operations\n",
        "#effectively."
      ],
      "execution_count": 1,
      "outputs": []
    },
    {
      "cell_type": "code",
      "metadata": {
        "id": "S3bppHBeCv0H"
      },
      "source": [
        "class User:\n",
        "  pass"
      ],
      "execution_count": 2,
      "outputs": []
    },
    {
      "cell_type": "code",
      "metadata": {
        "id": "0NeyeN_XDLrA"
      },
      "source": [
        "user1= User()"
      ],
      "execution_count": 3,
      "outputs": []
    },
    {
      "cell_type": "code",
      "metadata": {
        "colab": {
          "base_uri": "https://localhost:8080/"
        },
        "id": "1A0Gs7bvDOOg",
        "outputId": "ecdbf606-08e7-4c50-8d83-df6c38ddd0c8"
      },
      "source": [
        "user1"
      ],
      "execution_count": 4,
      "outputs": [
        {
          "output_type": "execute_result",
          "data": {
            "text/plain": [
              "<__main__.User at 0x7f97ff115ed0>"
            ]
          },
          "metadata": {},
          "execution_count": 4
        }
      ]
    },
    {
      "cell_type": "code",
      "metadata": {
        "colab": {
          "base_uri": "https://localhost:8080/"
        },
        "id": "6fCgSmOsDPls",
        "outputId": "dd809aef-0992-4937-9c9f-de555964f5b9"
      },
      "source": [
        "type(user1)"
      ],
      "execution_count": 5,
      "outputs": [
        {
          "output_type": "execute_result",
          "data": {
            "text/plain": [
              "__main__.User"
            ]
          },
          "metadata": {},
          "execution_count": 5
        }
      ]
    },
    {
      "cell_type": "code",
      "metadata": {
        "id": "GvtOShyxDRpO"
      },
      "source": [
        "class User:\n",
        "  def __init__(self, username, name, email):\n",
        "    self.username = username\n",
        "    self.name = name\n",
        "    self.email = email\n",
        "    print('User Created!')"
      ],
      "execution_count": 6,
      "outputs": []
    },
    {
      "cell_type": "code",
      "metadata": {
        "colab": {
          "base_uri": "https://localhost:8080/"
        },
        "id": "TnBMq6ySDn9a",
        "outputId": "ee602b29-4db2-4753-da5f-070ab94c2d95"
      },
      "source": [
        "user2= User('John', 'John Doe', 'johndoe.com')"
      ],
      "execution_count": 7,
      "outputs": [
        {
          "output_type": "stream",
          "name": "stdout",
          "text": [
            "User Created!\n"
          ]
        }
      ]
    },
    {
      "cell_type": "code",
      "metadata": {
        "colab": {
          "base_uri": "https://localhost:8080/"
        },
        "id": "FD1OBhhKDw3L",
        "outputId": "76a77cae-12b7-4d8a-9884-7b2d234c6660"
      },
      "source": [
        "user2"
      ],
      "execution_count": 8,
      "outputs": [
        {
          "output_type": "execute_result",
          "data": {
            "text/plain": [
              "<__main__.User at 0x7f97fbea4a90>"
            ]
          },
          "metadata": {},
          "execution_count": 8
        }
      ]
    },
    {
      "cell_type": "code",
      "metadata": {
        "colab": {
          "base_uri": "https://localhost:8080/"
        },
        "id": "raEAAENUDyOX",
        "outputId": "53002c2d-2580-4675-c5b5-3db9827a7e5a"
      },
      "source": [
        "user2.name, user2.email, user2.username"
      ],
      "execution_count": 9,
      "outputs": [
        {
          "output_type": "execute_result",
          "data": {
            "text/plain": [
              "('John Doe', 'johndoe.com', 'John')"
            ]
          },
          "metadata": {},
          "execution_count": 9
        }
      ]
    },
    {
      "cell_type": "code",
      "metadata": {
        "id": "XALGdENTE5k2"
      },
      "source": [
        "class User:\n",
        "  def __init__(self, username, name, email):\n",
        "    self.username = username\n",
        "    self.name = name\n",
        "    self.email = email\n",
        "\n",
        "  def introduce_yourself(self, guest_name):\n",
        "    print(\"Hi {}, I'm {}! Contact me at {}.\".format(guest_name, self.name, self.email))"
      ],
      "execution_count": 10,
      "outputs": []
    },
    {
      "cell_type": "code",
      "metadata": {
        "id": "MiiPVkGAFQ_J"
      },
      "source": [
        "user3 = User('jane', 'Jane Doe', 'jane@doe.com')\n"
      ],
      "execution_count": 11,
      "outputs": []
    },
    {
      "cell_type": "code",
      "metadata": {
        "colab": {
          "base_uri": "https://localhost:8080/"
        },
        "id": "2-4s1tSAFXCq",
        "outputId": "2cdac1a0-99ad-4b0c-c4b3-e371ed1d6195"
      },
      "source": [
        "user3.introduce_yourself('David')"
      ],
      "execution_count": 12,
      "outputs": [
        {
          "output_type": "stream",
          "name": "stdout",
          "text": [
            "Hi David, I'm Jane Doe! Contact me at jane@doe.com.\n"
          ]
        }
      ]
    },
    {
      "cell_type": "code",
      "metadata": {
        "colab": {
          "base_uri": "https://localhost:8080/"
        },
        "id": "vAT5NKmxFa2m",
        "outputId": "8db397ac-ba2a-4073-dad2-13deab32f7f9"
      },
      "source": [
        "User.introduce_yourself(user3, 'David')"
      ],
      "execution_count": 13,
      "outputs": [
        {
          "output_type": "stream",
          "name": "stdout",
          "text": [
            "Hi David, I'm Jane Doe! Contact me at jane@doe.com.\n"
          ]
        }
      ]
    },
    {
      "cell_type": "code",
      "metadata": {
        "id": "abIpVbiXFl0f"
      },
      "source": [
        "class User:\n",
        "  def __init__(self, username, name, email):\n",
        "    self.username = username\n",
        "    self.name = name\n",
        "    self.email = email\n",
        "\n",
        "  def __repr__(self):\n",
        "      return \"User(username='{}', name='{}', email='{}')\".format(self.username, self.name, self.email)\n",
        "\n",
        "  def __str__(self):\n",
        "      return self.__repr__()"
      ],
      "execution_count": 14,
      "outputs": []
    },
    {
      "cell_type": "code",
      "metadata": {
        "id": "ey8g0uzNImn5"
      },
      "source": [
        "user4 = User('jane', 'Jane Doe', 'jane@doe.com')"
      ],
      "execution_count": 15,
      "outputs": []
    },
    {
      "cell_type": "code",
      "metadata": {
        "colab": {
          "base_uri": "https://localhost:8080/"
        },
        "id": "ByJSHSy7Itvj",
        "outputId": "9509ffd4-351d-47b7-c721-48190721ae2b"
      },
      "source": [
        "user3"
      ],
      "execution_count": 16,
      "outputs": [
        {
          "output_type": "execute_result",
          "data": {
            "text/plain": [
              "<__main__.User at 0x7f97ff1155d0>"
            ]
          },
          "metadata": {},
          "execution_count": 16
        }
      ]
    },
    {
      "cell_type": "markdown",
      "metadata": {
        "id": "HoxttFLILw6Z"
      },
      "source": [
        "## Example of Repr and Str"
      ]
    },
    {
      "cell_type": "code",
      "metadata": {
        "colab": {
          "base_uri": "https://localhost:8080/"
        },
        "id": "CzJacPCXIxPv",
        "outputId": "55ba63f3-e94e-4ce6-a5ba-1c1fcb0f8017"
      },
      "source": [
        "class Sic(object):\n",
        "  def __repr__(object): return 'foo'\n",
        "\n",
        "print (str(Sic()))\n",
        "print (repr(Sic()))"
      ],
      "execution_count": 17,
      "outputs": [
        {
          "output_type": "stream",
          "name": "stdout",
          "text": [
            "foo\n",
            "foo\n"
          ]
        }
      ]
    },
    {
      "cell_type": "code",
      "metadata": {
        "colab": {
          "base_uri": "https://localhost:8080/"
        },
        "id": "hjL7-SunLVaQ",
        "outputId": "1d545efb-ea0a-4765-977a-8ff99abf8498"
      },
      "source": [
        "import datetime\n",
        "today = datetime.datetime.now()\n",
        "print(str(today))\n",
        "print(repr(today))"
      ],
      "execution_count": 18,
      "outputs": [
        {
          "output_type": "stream",
          "name": "stdout",
          "text": [
            "2022-01-30 20:19:38.207801\n",
            "datetime.datetime(2022, 1, 30, 20, 19, 38, 207801)\n"
          ]
        }
      ]
    },
    {
      "cell_type": "code",
      "metadata": {
        "id": "rhz-1W7UL43S"
      },
      "source": [
        "class UserDatabase:\n",
        "  def insert(self, user):\n",
        "    pass\n",
        "  def find(self, username):\n",
        "    pass\n",
        "  def update(self, user):\n",
        "    pass\n",
        "  def list_all(self):\n",
        "    pass"
      ],
      "execution_count": 19,
      "outputs": []
    },
    {
      "cell_type": "code",
      "metadata": {
        "id": "wFAz3MylM5N6"
      },
      "source": [
        "aakash = User('aakash', 'Aakash Rai', 'aakash@example.com')\n",
        "biraj = User('biraj', 'Biraj Das', 'biraj@example.com')\n",
        "hemanth = User('hemanth', 'Hemanth Jain', 'hemanth@example.com')\n",
        "jadhesh = User('jadhesh', 'Jadhesh Verma', 'jadhesh@example.com')\n",
        "siddhant = User('siddhant', 'Siddhant Sinha', 'siddhant@example.com')\n",
        "sonaksh = User('sonaksh', 'Sonaksh Kumar', 'sonaksh@example.com')\n",
        "vishal = User('vishal', 'Vishal Goel', 'vishal@example.com')"
      ],
      "execution_count": 20,
      "outputs": []
    },
    {
      "cell_type": "code",
      "metadata": {
        "id": "y6dhir3rNZF1"
      },
      "source": [
        "users= [aakash, biraj, hemanth, jadhesh, siddhant, sonaksh, vishal]"
      ],
      "execution_count": 21,
      "outputs": []
    },
    {
      "cell_type": "code",
      "metadata": {
        "colab": {
          "base_uri": "https://localhost:8080/"
        },
        "id": "PZ1G0eScOwmN",
        "outputId": "f278e28c-9408-4756-b57c-585419ee8a93"
      },
      "source": [
        "biraj.username, biraj.email, biraj.name"
      ],
      "execution_count": 22,
      "outputs": [
        {
          "output_type": "execute_result",
          "data": {
            "text/plain": [
              "('biraj', 'biraj@example.com', 'Biraj Das')"
            ]
          },
          "metadata": {},
          "execution_count": 22
        }
      ]
    },
    {
      "cell_type": "code",
      "metadata": {
        "colab": {
          "base_uri": "https://localhost:8080/"
        },
        "id": "TawvSmosO1h8",
        "outputId": "e902cd4f-f872-49cb-f879-64e2e42fa70b"
      },
      "source": [
        "print(aakash)"
      ],
      "execution_count": 23,
      "outputs": [
        {
          "output_type": "stream",
          "name": "stdout",
          "text": [
            "User(username='aakash', name='Aakash Rai', email='aakash@example.com')\n"
          ]
        }
      ]
    },
    {
      "cell_type": "code",
      "metadata": {
        "colab": {
          "base_uri": "https://localhost:8080/"
        },
        "id": "447yHj1CPCdG",
        "outputId": "796a0d7b-0b3a-41c2-ba0a-90a30c7f9248"
      },
      "source": [
        "users"
      ],
      "execution_count": 24,
      "outputs": [
        {
          "output_type": "execute_result",
          "data": {
            "text/plain": [
              "[User(username='aakash', name='Aakash Rai', email='aakash@example.com'),\n",
              " User(username='biraj', name='Biraj Das', email='biraj@example.com'),\n",
              " User(username='hemanth', name='Hemanth Jain', email='hemanth@example.com'),\n",
              " User(username='jadhesh', name='Jadhesh Verma', email='jadhesh@example.com'),\n",
              " User(username='siddhant', name='Siddhant Sinha', email='siddhant@example.com'),\n",
              " User(username='sonaksh', name='Sonaksh Kumar', email='sonaksh@example.com'),\n",
              " User(username='vishal', name='Vishal Goel', email='vishal@example.com')]"
            ]
          },
          "metadata": {},
          "execution_count": 24
        }
      ]
    },
    {
      "cell_type": "markdown",
      "metadata": {
        "id": "QTTC0WX2Sbk4"
      },
      "source": [
        "Since we haven't implemented our data structure yet, it's not possible to list sample outputs. However you can try to come up with different scenarios to test future implementations\n",
        "\n",
        "**Exercise:** List some scenarios for testing the class methods `insert`, `find`, `update` and `list_all`.\n",
        "\n",
        "1. Insert:\n",
        "    1. Inserting into an empty database of users\n",
        "    2. Trying to insert a user with a username that already exists\n",
        "    3. Inserting a user with a username that does not exist\n",
        "    4. ???\n",
        "\n",
        "2. Find:\n",
        "    1. Finding a username that exists\n",
        "    2. Finding a username that is missing\n",
        "    3. Finding a username \n",
        "\n",
        "3. Update:\n",
        "    1. Trying to update a username that exists\n",
        "    2. Trying to update a missing username\n",
        "    3. \n",
        "\n",
        "4. List:\n",
        "    1. Trying to list when the db is empty\n",
        "    2. Trying to list when only one username exists\n",
        "    3. ???\n",
        "\n"
      ]
    },
    {
      "cell_type": "markdown",
      "metadata": {
        "id": "1GptS8EcT2el"
      },
      "source": [
        "## 3. Come up with a correct solution. State it in plain English.\n",
        "\n",
        "Here's a simple and easy solution to the problem: we store the `User` objects in a list sorted by usernames. \n",
        "\n",
        "The various functions can be implemented as follows:\n",
        "\n",
        "1. **Insert**: Loop through the list and add the new user at a position that keeps the list sorted.\n",
        "2. **Find**: Loop through the list and find the user object with the username matching the query.\n",
        "3. **Update**: Loop through the list, find the user object matching the query and update the details\n",
        "4. **List**: Return the list of user objects.\n",
        "\n",
        "We can use the fact usernames, which are are strings can be compared using the `<`, `>` and `==` operators in Python."
      ]
    },
    {
      "cell_type": "code",
      "metadata": {
        "colab": {
          "base_uri": "https://localhost:8080/"
        },
        "id": "MYWr3VSbPHm2",
        "outputId": "41c18192-08ef-4cba-9861-0a40c702d037"
      },
      "source": [
        "'biraj' < 'hemanth'"
      ],
      "execution_count": 25,
      "outputs": [
        {
          "output_type": "execute_result",
          "data": {
            "text/plain": [
              "True"
            ]
          },
          "metadata": {},
          "execution_count": 25
        }
      ]
    },
    {
      "cell_type": "code",
      "metadata": {
        "id": "6vB6EWSfT81c"
      },
      "source": [
        "class UserDatabase:\n",
        "  def __init__(self):\n",
        "    self.users= []\n",
        "\n",
        "  def insert(self, user):\n",
        "    i= 0\n",
        "    while i < len(self.users):\n",
        "      if self.users[i].username > user.username:\n",
        "        break\n",
        "      i += 1\n",
        "    self.users.insert(i, user)\n",
        "\n",
        "  def find(self, username):\n",
        "    for user in self.users:\n",
        "      if user.username == username:\n",
        "        return user\n",
        "\n",
        "  def update(self, user):\n",
        "      target = self.find(user.username)\n",
        "      target.name, target.email= user.name, user.email\n",
        "\n",
        "  def list_all(self):\n",
        "      return self.users"
      ],
      "execution_count": 26,
      "outputs": []
    },
    {
      "cell_type": "code",
      "metadata": {
        "id": "ZvE9qHamUTBU"
      },
      "source": [
        "database= UserDatabase()"
      ],
      "execution_count": 27,
      "outputs": []
    },
    {
      "cell_type": "code",
      "metadata": {
        "id": "HVAZZkGFVeQD"
      },
      "source": [
        "database.insert(hemanth)\n",
        "database.insert(aakash)\n",
        "database.insert(siddhant)"
      ],
      "execution_count": 28,
      "outputs": []
    },
    {
      "cell_type": "markdown",
      "metadata": {
        "id": "XzbLBBb4VueX"
      },
      "source": [
        "## Find"
      ]
    },
    {
      "cell_type": "code",
      "metadata": {
        "colab": {
          "base_uri": "https://localhost:8080/"
        },
        "id": "aAFYXvy7Vlhc",
        "outputId": "57b312e3-7dda-47ae-8cb6-fa09804e5fb3"
      },
      "source": [
        "user = database.find('siddhant')\n",
        "print(user)"
      ],
      "execution_count": 29,
      "outputs": [
        {
          "output_type": "stream",
          "name": "stdout",
          "text": [
            "User(username='siddhant', name='Siddhant Sinha', email='siddhant@example.com')\n"
          ]
        }
      ]
    },
    {
      "cell_type": "code",
      "metadata": {
        "colab": {
          "base_uri": "https://localhost:8080/"
        },
        "id": "fCBULk_7V0H3",
        "outputId": "5d5ee59a-36cf-444e-8f44-3a7d4f14c02b"
      },
      "source": [
        "user"
      ],
      "execution_count": 30,
      "outputs": [
        {
          "output_type": "execute_result",
          "data": {
            "text/plain": [
              "User(username='siddhant', name='Siddhant Sinha', email='siddhant@example.com')"
            ]
          },
          "metadata": {},
          "execution_count": 30
        }
      ]
    },
    {
      "cell_type": "code",
      "metadata": {
        "id": "YXeupWNZV1iV"
      },
      "source": [
        "database.update(User(username= 'siddhant', name= 'Siddhant U', email= 'siddhantu@example.com'))"
      ],
      "execution_count": 31,
      "outputs": []
    },
    {
      "cell_type": "code",
      "metadata": {
        "id": "X29sAgYSXL7Y"
      },
      "source": [
        "user= database.find('siddhant')"
      ],
      "execution_count": 32,
      "outputs": []
    },
    {
      "cell_type": "code",
      "metadata": {
        "colab": {
          "base_uri": "https://localhost:8080/"
        },
        "id": "FFJBG4SJXPsg",
        "outputId": "53265cda-dca3-41be-e2fd-15c930fd94f0"
      },
      "source": [
        "user"
      ],
      "execution_count": 33,
      "outputs": [
        {
          "output_type": "execute_result",
          "data": {
            "text/plain": [
              "User(username='siddhant', name='Siddhant U', email='siddhantu@example.com')"
            ]
          },
          "metadata": {},
          "execution_count": 33
        }
      ]
    },
    {
      "cell_type": "code",
      "metadata": {
        "colab": {
          "base_uri": "https://localhost:8080/"
        },
        "id": "_BQXd3_iXQaw",
        "outputId": "a43b3b8a-0c07-4c3b-d040-94c2232100f5"
      },
      "source": [
        "database.list_all()"
      ],
      "execution_count": 34,
      "outputs": [
        {
          "output_type": "execute_result",
          "data": {
            "text/plain": [
              "[User(username='aakash', name='Aakash Rai', email='aakash@example.com'),\n",
              " User(username='hemanth', name='Hemanth Jain', email='hemanth@example.com'),\n",
              " User(username='siddhant', name='Siddhant U', email='siddhantu@example.com')]"
            ]
          },
          "metadata": {},
          "execution_count": 34
        }
      ]
    },
    {
      "cell_type": "code",
      "metadata": {
        "id": "FvBB-TPhXUcM"
      },
      "source": [
        "database.insert(biraj)"
      ],
      "execution_count": 35,
      "outputs": []
    },
    {
      "cell_type": "code",
      "metadata": {
        "colab": {
          "base_uri": "https://localhost:8080/"
        },
        "id": "swjhUkMQXYzc",
        "outputId": "f3c0afc8-7989-4cb8-808f-d2f1a6a4d8b9"
      },
      "source": [
        "database.list_all()"
      ],
      "execution_count": 36,
      "outputs": [
        {
          "output_type": "execute_result",
          "data": {
            "text/plain": [
              "[User(username='aakash', name='Aakash Rai', email='aakash@example.com'),\n",
              " User(username='biraj', name='Biraj Das', email='biraj@example.com'),\n",
              " User(username='hemanth', name='Hemanth Jain', email='hemanth@example.com'),\n",
              " User(username='siddhant', name='Siddhant U', email='siddhantu@example.com')]"
            ]
          },
          "metadata": {},
          "execution_count": 36
        }
      ]
    },
    {
      "cell_type": "code",
      "metadata": {
        "colab": {
          "base_uri": "https://localhost:8080/"
        },
        "id": "WSUWQHJyXpwK",
        "outputId": "afb9bc64-bdde-4cff-dfaa-a996f0d9c24a"
      },
      "source": [
        "new= database.find('precious')\n",
        "print(new)"
      ],
      "execution_count": 37,
      "outputs": [
        {
          "output_type": "stream",
          "name": "stdout",
          "text": [
            "None\n"
          ]
        }
      ]
    },
    {
      "cell_type": "code",
      "metadata": {
        "id": "gFZn3dHwX0eR"
      },
      "source": [
        "#Try and update a missing username"
      ],
      "execution_count": 38,
      "outputs": []
    },
    {
      "cell_type": "markdown",
      "metadata": {
        "id": "guQj3-POYZXz"
      },
      "source": [
        "## 5. Analyze the algorithm's complexity and identify inefficiencies\n",
        "\n",
        "The operations `insert`, `find`, `update` involves iterating over a list of users, in the worst case, they may take up to `N` iterations to return a result, where `N` is the total number of users. `list_all` however, simply returns the existing internal list of users. \n",
        "\n",
        "Thus, the time complexities of the various operations are:\n",
        "\n",
        "1. Insert: **O(N)**\n",
        "2. Find: **O(N)**\n",
        "3. Update: **O(N)**\n",
        "4. List: **O(1)**\n",
        "\n",
        "**Exercise:** Verify that the space complexity of each operation is **O(1)**.\n",
        "\n",
        "Is this good enough? To get a sense how long each function might take if there are 100 million users on the platform, we can simply run an `for` or `while` loop on 10 million numbers."
      ]
    },
    {
      "cell_type": "code",
      "metadata": {
        "colab": {
          "base_uri": "https://localhost:8080/"
        },
        "id": "6lMagWnkYLHG",
        "outputId": "b6dbcae1-34d0-4636-e2e2-cfb323a4068f"
      },
      "source": [
        "%%time\n",
        "for i in range(100000000):\n",
        "  j = i * i"
      ],
      "execution_count": 39,
      "outputs": [
        {
          "output_type": "stream",
          "name": "stdout",
          "text": [
            "CPU times: user 14 s, sys: 33.1 ms, total: 14.1 s\n",
            "Wall time: 14.8 s\n"
          ]
        }
      ]
    },
    {
      "cell_type": "code",
      "metadata": {
        "id": "udYrft0jYsfx",
        "colab": {
          "base_uri": "https://localhost:8080/"
        },
        "outputId": "09d7f70b-7985-43c3-be25-97f4f100098d"
      },
      "source": [
        "!pip install jovian --upgrade --quiet\n",
        "import jovian"
      ],
      "execution_count": 40,
      "outputs": [
        {
          "output_type": "stream",
          "name": "stdout",
          "text": [
            "\u001b[?25l\r\u001b[K     |████▊                           | 10 kB 24.2 MB/s eta 0:00:01\r\u001b[K     |█████████▌                      | 20 kB 29.0 MB/s eta 0:00:01\r\u001b[K     |██████████████▎                 | 30 kB 33.7 MB/s eta 0:00:01\r\u001b[K     |███████████████████             | 40 kB 35.8 MB/s eta 0:00:01\r\u001b[K     |███████████████████████▉        | 51 kB 38.4 MB/s eta 0:00:01\r\u001b[K     |████████████████████████████▋   | 61 kB 40.6 MB/s eta 0:00:01\r\u001b[K     |████████████████████████████████| 68 kB 6.0 MB/s \n",
            "\u001b[?25h  Building wheel for uuid (setup.py) ... \u001b[?25l\u001b[?25hdone\n"
          ]
        }
      ]
    },
    {
      "cell_type": "markdown",
      "metadata": {
        "id": "FZQS470hZI2A"
      },
      "source": [
        "## 6. Apply the right technique to overcome the inefficiency_ Balance Binary Search Trees\n",
        "\n",
        "We can limit the number of iterations required for common operations like find, insert and update by organizing our data in the following structure, called a **binary tree**:\n",
        "\n",
        "<img src=\"https://i.imgur.com/lVqP63n.png\" width=\"520\">\n",
        "\n",
        "\n",
        "\n",
        "It's called a tree because it vaguely like an inverted tree trunk with branches. \n",
        "* The word \"binary\" indicates that each \"node\" in the tree can have at most 2 children (left or right). \n",
        "* Nodes can have 0, 1 or 2 children. Nodes that do not have any children are sometimes also called \"leaves\".\n",
        "* The single node at the top is called the \"root\" node, and it typically where operations like search, insertion etc. begin.\n",
        "\n",
        "<img src=\"https://i.imgur.com/TZHMKJr.png\" width=\"400\">"
      ]
    },
    {
      "cell_type": "markdown",
      "metadata": {
        "id": "N_ZY3JI4dgIH"
      },
      "source": [
        "## Balanced Binary Search Trees\n",
        "\n",
        "<img src=\"https://i.imgur.com/Mqef5b3.png\" width=\"520\">\n",
        "\n",
        "For our use case, we require the binary tree to have some additional properties:\n",
        "\n",
        "1. **Keys and Values**: Each node of the tree stores a key (a username) and a value (a `User` object). Only keys are shown in the picture above for brevity. A binary tree where nodes have both a key and a value is often referred to as a **map** or **treemap** (because it maps keys to values).\n",
        "2. **Binary Search Tree**: The *left subtree* of any node only contains nodes with keys that are lexicographically smaller than the node's key, and the *right subtree* of any node only contains nodes with keys that lexicographically larger than the node's key. A tree that satisfies this property is called a **binary search trees**, and it's easy to locate a specific key by traversing a single path down from the root note.\n",
        "3. **Balanced Tree**: The tree is **balanced** i.e. it does not skew too heavily to one side or the other. The left and right subtrees of any node shouldn't differ in height/depth by more than 1 level.\n",
        "\n",
        "\n",
        "### Height of a Binary Tree\n",
        "\n",
        "The number of levels in a tree is called its height. As you can tell from the picture above, each level of a tree contains twice as many nodes as the previous level. \n",
        "\n",
        "For a tree of height `k`, here's a list of the number of nodes at each level:\n",
        "\n",
        "Level 0: `1`\n",
        "\n",
        "Level 1: `2`\n",
        "\n",
        "Level 2: `4` i.e. `2^2`\n",
        "\n",
        "Level 3: `8` i.e. `2^3`\n",
        "\n",
        "...\n",
        "\n",
        "Level k-1: `2^(k-1)`\n",
        "\n",
        "If the total number of nodes in the tree is `N`, then it follows that\n",
        "\n",
        "```\n",
        "N = 1 + 2^1 + 2^2 + 2^3 + ... + 2^(k-1)\n",
        "```\n",
        "\n",
        "\n",
        "We can simplify this equation by adding `1` on each side:\n",
        "\n",
        "```\n",
        "N + 1 = 1 + 1 + 2^1 + 2^2 + 2^3 + ... + 2^(k-1) \n",
        "\n",
        "N + 1 = 2^1 + 2^1 + 2^2+ 2^3 + ... + 2^(k-1) \n",
        "\n",
        "N + 1 = = 2^2 + 2^2 + 2^3 + ... + 2^(k-1)\n",
        "\n",
        "N + 1 = = 2^3 + 2^3 + ... + 2^(k-1)\n",
        "\n",
        "...\n",
        "\n",
        "N + 1 = 2^(k-1) + 2^(k-1)\n",
        "\n",
        "N + 1 = 2^k\n",
        "\n",
        "k = log(N + 1) <= log(N) + 1 \n",
        "\n",
        "```\n",
        "\n",
        "Thus, to store `N` records we require a balanced binary search tree (BST) of height no larger than `log(N) + 1`. This is a very useful property, in combination with the fact that nodes are arranged in a way that makes it easy to find a specific key by following a single path down from the root. \n",
        "\n",
        "As we'll see soon, the `insert`, `find` and `update` operations in a balanced BST have time complexity `O(log N)` since they all involve traversing a single path down from the root of the tree.\n",
        "\n"
      ]
    },
    {
      "cell_type": "markdown",
      "metadata": {
        "id": "bPwav06hdsJy"
      },
      "source": [
        "\n",
        "## Binary Tree\n",
        "\n",
        "> **QUESTION 2**: Implement a binary tree using Python, and show its usage with some examples.\n",
        "\n",
        "To begin, we'll create simple binary tree (without any of the additional properties) containing numbers as keys within nodes. Here's an example:\n",
        "\n",
        "<img src=\"https://i.imgur.com/hg2ZG5h.png\" width=\"240\">\n",
        "\n",
        "Here's a simple class representing a node within a binary tree."
      ]
    },
    {
      "cell_type": "code",
      "metadata": {
        "id": "ydC8jS14ZA2V"
      },
      "source": [
        "class TreeNode:\n",
        "  def __init__(self, key):\n",
        "    self.key = key\n",
        "    self.left = None\n",
        "    self.right = None"
      ],
      "execution_count": 41,
      "outputs": []
    },
    {
      "cell_type": "code",
      "metadata": {
        "id": "QqptBKpoKOHH"
      },
      "source": [
        "node0 = TreeNode(3)\n",
        "node1= TreeNode(4)\n",
        "node2= TreeNode(5)"
      ],
      "execution_count": 42,
      "outputs": []
    },
    {
      "cell_type": "code",
      "metadata": {
        "colab": {
          "base_uri": "https://localhost:8080/"
        },
        "id": "OqEshu94Kjtr",
        "outputId": "3d275803-e746-4f4b-dd3a-54896c56ae51"
      },
      "source": [
        "node0"
      ],
      "execution_count": 43,
      "outputs": [
        {
          "output_type": "execute_result",
          "data": {
            "text/plain": [
              "<__main__.TreeNode at 0x7f97fb578f10>"
            ]
          },
          "metadata": {},
          "execution_count": 43
        }
      ]
    },
    {
      "cell_type": "code",
      "metadata": {
        "colab": {
          "base_uri": "https://localhost:8080/"
        },
        "id": "x2Sr3TlrKpDR",
        "outputId": "0bdc6f29-398f-4aa2-cd82-193969dbb460"
      },
      "source": [
        "node0.key"
      ],
      "execution_count": 44,
      "outputs": [
        {
          "output_type": "execute_result",
          "data": {
            "text/plain": [
              "3"
            ]
          },
          "metadata": {},
          "execution_count": 44
        }
      ]
    },
    {
      "cell_type": "code",
      "metadata": {
        "id": "9iS3iSd-Kqeh"
      },
      "source": [
        "node0.left= node1\n",
        "node0.right= node2"
      ],
      "execution_count": 45,
      "outputs": []
    },
    {
      "cell_type": "markdown",
      "metadata": {
        "id": "tcz5QQzKLGNZ"
      },
      "source": [
        "We can create a new variable tree which simply points to the root node, so we can use it to access all the nodes within the tree"
      ]
    },
    {
      "cell_type": "code",
      "metadata": {
        "colab": {
          "base_uri": "https://localhost:8080/"
        },
        "id": "ZC2atn45LFvZ",
        "outputId": "726d2ba5-3b76-44c0-f5de-780d699059f1"
      },
      "source": [
        "tree = node0\n",
        "tree.key"
      ],
      "execution_count": 46,
      "outputs": [
        {
          "output_type": "execute_result",
          "data": {
            "text/plain": [
              "3"
            ]
          },
          "metadata": {},
          "execution_count": 46
        }
      ]
    },
    {
      "cell_type": "code",
      "metadata": {
        "colab": {
          "base_uri": "https://localhost:8080/"
        },
        "id": "8DTmNQTzKumT",
        "outputId": "be61ddd5-35ec-42e7-9b54-8f1b1b379d41"
      },
      "source": [
        "tree.left.key"
      ],
      "execution_count": 47,
      "outputs": [
        {
          "output_type": "execute_result",
          "data": {
            "text/plain": [
              "4"
            ]
          },
          "metadata": {},
          "execution_count": 47
        }
      ]
    },
    {
      "cell_type": "code",
      "metadata": {
        "colab": {
          "base_uri": "https://localhost:8080/"
        },
        "id": "aP6j0L8vLchq",
        "outputId": "bd1f157d-e4a5-4fc3-a994-65fbb11ec833"
      },
      "source": [
        "tree.right.key"
      ],
      "execution_count": 48,
      "outputs": [
        {
          "output_type": "execute_result",
          "data": {
            "text/plain": [
              "5"
            ]
          },
          "metadata": {},
          "execution_count": 48
        }
      ]
    },
    {
      "cell_type": "markdown",
      "metadata": {
        "id": "-kBtV6OgMBw1"
      },
      "source": [
        "Going forward, we'll use the term \"tree\" to refer to the root node. The term \"node\" can refer to any node in a tree, not necessarily the root.\n",
        "\n",
        "**Exercise:** Create the following binary tree using the `TreeNode` class defined above.\n",
        "\n",
        "<img src=\"https://i.imgur.com/d7djJAf.png\" width=\"540\">"
      ]
    },
    {
      "cell_type": "code",
      "metadata": {
        "id": "a2G-wR6jLhf9"
      },
      "source": [
        "class TreeNode:\n",
        "  def __init__(self, key):\n",
        "    self.key = key\n",
        "    self.left = None\n",
        "    self.right = None"
      ],
      "execution_count": 49,
      "outputs": []
    },
    {
      "cell_type": "code",
      "metadata": {
        "id": "rz1FkLNBMnLj"
      },
      "source": [
        "node_0= TreeNode(2)\n",
        "node_1= TreeNode(3)\n",
        "node_2= TreeNode(5)\n",
        "node_3= TreeNode(1)\n",
        "node_4= TreeNode(3)\n",
        "node_5= TreeNode(7)\n",
        "node_6= TreeNode(4)\n",
        "node_7= TreeNode(6)\n",
        "node_8= TreeNode(8)"
      ],
      "execution_count": 50,
      "outputs": []
    },
    {
      "cell_type": "code",
      "metadata": {
        "colab": {
          "base_uri": "https://localhost:8080/"
        },
        "id": "hWZQH4r_MeQQ",
        "outputId": "7890e17a-a316-4bea-9186-64f3cd356d0a"
      },
      "source": [
        "node_0.key"
      ],
      "execution_count": 51,
      "outputs": [
        {
          "output_type": "execute_result",
          "data": {
            "text/plain": [
              "2"
            ]
          },
          "metadata": {},
          "execution_count": 51
        }
      ]
    },
    {
      "cell_type": "code",
      "metadata": {
        "id": "QkebHes4NHGA"
      },
      "source": [
        "node_0.left= node_1\n",
        "node_0.right= node_2\n",
        "node_0.left.left= node_3\n",
        "node_0.right.left= node_4\n",
        "node_0.right.right= node_5\n",
        "node_0.right.left.left= node_6\n",
        "node_0.right.right.left= node_7\n",
        "node_0.right.right.right= node_8"
      ],
      "execution_count": 52,
      "outputs": []
    },
    {
      "cell_type": "code",
      "metadata": {
        "colab": {
          "base_uri": "https://localhost:8080/"
        },
        "id": "GTVm6x2MOc4a",
        "outputId": "8cda63b4-117a-4b27-d618-6c20d7ce518b"
      },
      "source": [
        "tree= node_0\n",
        "tree.key"
      ],
      "execution_count": 53,
      "outputs": [
        {
          "output_type": "execute_result",
          "data": {
            "text/plain": [
              "2"
            ]
          },
          "metadata": {},
          "execution_count": 53
        }
      ]
    },
    {
      "cell_type": "code",
      "metadata": {
        "colab": {
          "base_uri": "https://localhost:8080/"
        },
        "id": "81Lu1IbWOcXF",
        "outputId": "f0820380-40fa-4aff-866c-49e136dbad09"
      },
      "source": [
        "tree.left.key"
      ],
      "execution_count": 54,
      "outputs": [
        {
          "output_type": "execute_result",
          "data": {
            "text/plain": [
              "3"
            ]
          },
          "metadata": {},
          "execution_count": 54
        }
      ]
    },
    {
      "cell_type": "code",
      "metadata": {
        "colab": {
          "base_uri": "https://localhost:8080/"
        },
        "id": "EZEobG5bO3kB",
        "outputId": "39a1fe64-d949-4a7d-98fe-7ad2daa2f08d"
      },
      "source": [
        "tree.right.right.right.key"
      ],
      "execution_count": 55,
      "outputs": [
        {
          "output_type": "execute_result",
          "data": {
            "text/plain": [
              "8"
            ]
          },
          "metadata": {},
          "execution_count": 55
        }
      ]
    },
    {
      "cell_type": "markdown",
      "metadata": {
        "id": "s9ByzAlYPBb5"
      },
      "source": [
        "It's a bit inconvenient to create a tree by manually connecting all the nodes. Let's write a helper function which can convert a tuple with the structure `( left_subtree, key, right_subtree)` (where `left_subtree` and `right_subtree` are themselves tuples) into binary tree.\n",
        "\n",
        "Here's an tuple representing the tree shown above:"
      ]
    },
    {
      "cell_type": "code",
      "metadata": {
        "id": "trND2tOpO609"
      },
      "source": [
        "tree_tuple= ((1, 3, None), 2, ((None, 3, 4), 5, (6, 7, 8)))"
      ],
      "execution_count": 56,
      "outputs": []
    },
    {
      "cell_type": "markdown",
      "metadata": {
        "id": "rdYwV9bg_nCb"
      },
      "source": [
        "## Create tree automatically\n",
        "A helper function that converts a tuple into a tree"
      ]
    },
    {
      "cell_type": "code",
      "metadata": {
        "id": "JxEp0iqNPiN9"
      },
      "source": [
        "def parse_tuple(data):\n",
        "  if isinstance(data, tuple) and len(data) == 3:\n",
        "    node= TreeNode(data[1])\n",
        "    node.left= parse_tuple(data[0])\n",
        "    node.right= parse_tuple(data[2])\n",
        "  elif data is None:\n",
        "    node= None\n",
        "  else:\n",
        "    node= TreeNode(data)\n",
        "  return node"
      ],
      "execution_count": 57,
      "outputs": []
    },
    {
      "cell_type": "code",
      "metadata": {
        "id": "xiMxglgzSsDL"
      },
      "source": [
        "tree2 = parse_tuple(((1,3,None), 2, ((None, 3, 4), 5, (6, 7, 8))))"
      ],
      "execution_count": 58,
      "outputs": []
    },
    {
      "cell_type": "code",
      "metadata": {
        "id": "fCEcyfZHlVQF"
      },
      "source": [
        "tree3= parse_tuple((((2,1, 3), 3, (4, 6, 5)), 4, ((3, 4, None), 7, (8, 8, 8))))"
      ],
      "execution_count": 59,
      "outputs": []
    },
    {
      "cell_type": "code",
      "metadata": {
        "colab": {
          "base_uri": "https://localhost:8080/"
        },
        "id": "M-i4qkBxS7UD",
        "outputId": "8f1bd641-33bc-410b-c95a-5296bf535200"
      },
      "source": [
        "tree2"
      ],
      "execution_count": 60,
      "outputs": [
        {
          "output_type": "execute_result",
          "data": {
            "text/plain": [
              "<__main__.TreeNode at 0x7f97fb124290>"
            ]
          },
          "metadata": {},
          "execution_count": 60
        }
      ]
    },
    {
      "cell_type": "code",
      "metadata": {
        "colab": {
          "base_uri": "https://localhost:8080/"
        },
        "id": "SYdt3dQAS9cY",
        "outputId": "0e56470f-07a0-4b8f-ce11-72449fbc8f47"
      },
      "source": [
        "tree2.key"
      ],
      "execution_count": 61,
      "outputs": [
        {
          "output_type": "execute_result",
          "data": {
            "text/plain": [
              "2"
            ]
          },
          "metadata": {},
          "execution_count": 61
        }
      ]
    },
    {
      "cell_type": "code",
      "metadata": {
        "colab": {
          "base_uri": "https://localhost:8080/"
        },
        "id": "gmfgR65ATBkm",
        "outputId": "4814e451-2741-4672-a9fb-9d6c2daeee6d"
      },
      "source": [
        "tree2.left.key, tree2.right.key"
      ],
      "execution_count": 62,
      "outputs": [
        {
          "output_type": "execute_result",
          "data": {
            "text/plain": [
              "(3, 5)"
            ]
          },
          "metadata": {},
          "execution_count": 62
        }
      ]
    },
    {
      "cell_type": "code",
      "metadata": {
        "colab": {
          "base_uri": "https://localhost:8080/"
        },
        "id": "7EwYVPoWTDnL",
        "outputId": "e2acab7d-9e65-4495-f8b8-ae551d1c6661"
      },
      "source": [
        "tree2.left.left.key, tree2.left.right, tree2.right.left.key, tree2.right.right.key"
      ],
      "execution_count": 63,
      "outputs": [
        {
          "output_type": "execute_result",
          "data": {
            "text/plain": [
              "(1, None, 3, 7)"
            ]
          },
          "metadata": {},
          "execution_count": 63
        }
      ]
    },
    {
      "cell_type": "code",
      "metadata": {
        "colab": {
          "base_uri": "https://localhost:8080/"
        },
        "id": "HQU-Mb78TgrA",
        "outputId": "9989a36c-e24a-409b-bfec-cb9ef394d977"
      },
      "source": [
        "tree2.right.left.right.key, tree2.right.right.left.key, tree2.right.right.right.key"
      ],
      "execution_count": 64,
      "outputs": [
        {
          "output_type": "execute_result",
          "data": {
            "text/plain": [
              "(4, 6, 8)"
            ]
          },
          "metadata": {},
          "execution_count": 64
        }
      ]
    },
    {
      "cell_type": "markdown",
      "metadata": {
        "id": "5AVn9-zHWgmK"
      },
      "source": [
        "**Exercise:** Define a function `tree_to_tuple` that converts a binary tree into a tuple representing the same tree. E.g. `tree_to_tuple` converts the tree created above to the tuple `((1, 3, None), 2, ((None, 3, 4), 5, (6, 7, 8)))`. *Hint*: Use recursion."
      ]
    },
    {
      "cell_type": "code",
      "metadata": {
        "id": "5-L1KRpsUJiT"
      },
      "source": [
        "def tree_to_tuple(node):\n",
        "  if node != None:\n",
        "    output= node.left, node.key, node.right\n",
        "    #data= tuple(data)\n",
        "    return output\n",
        "  else:\n",
        "    return \"It is not a tree\""
      ],
      "execution_count": 65,
      "outputs": []
    },
    {
      "cell_type": "code",
      "metadata": {
        "colab": {
          "base_uri": "https://localhost:8080/"
        },
        "id": "pc9lalT_X2Bb",
        "outputId": "aa85c27b-36fc-458a-88e4-c0abb131de4e"
      },
      "source": [
        "result= tree_to_tuple(tree2)\n",
        "result"
      ],
      "execution_count": 66,
      "outputs": [
        {
          "output_type": "execute_result",
          "data": {
            "text/plain": [
              "(<__main__.TreeNode at 0x7f97fb124250>,\n",
              " 2,\n",
              " <__main__.TreeNode at 0x7f97fb124350>)"
            ]
          },
          "metadata": {},
          "execution_count": 66
        }
      ]
    },
    {
      "cell_type": "code",
      "metadata": {
        "colab": {
          "base_uri": "https://localhost:8080/"
        },
        "id": "5FqLvCJKYCYN",
        "outputId": "88496799-10c1-4806-b50d-c008e7b052d1"
      },
      "source": [
        "print(result)"
      ],
      "execution_count": 67,
      "outputs": [
        {
          "output_type": "stream",
          "name": "stdout",
          "text": [
            "(<__main__.TreeNode object at 0x7f97fb124250>, 2, <__main__.TreeNode object at 0x7f97fb124350>)\n"
          ]
        }
      ]
    },
    {
      "cell_type": "markdown",
      "metadata": {
        "id": "PL_vjZ-vbW4o"
      },
      "source": [
        "Let's create another helper function to display all the keys in a tree-like structure for easier visualization."
      ]
    },
    {
      "cell_type": "code",
      "metadata": {
        "id": "A5WSEG13YELo"
      },
      "source": [
        "def display_keys(node, space= '\\t', level= 0):\n",
        "  #print(node.key if node else None, level)\n",
        "\n",
        "  #if the node is empty\n",
        "  if node is None:\n",
        "    print(space*level + '∅')\n",
        "    return\n",
        "  \n",
        "  #if the node is a leaf\n",
        "  if node.left is None and node.right is None:\n",
        "    print(space * level + str(node.key))\n",
        "    return\n",
        "\n",
        "  #If the node has children\n",
        "  display_keys(node.right, space, level+1)\n",
        "  print(space*level + str(node.key))\n",
        "  display_keys(node.left, space, level+1)\n"
      ],
      "execution_count": 68,
      "outputs": []
    },
    {
      "cell_type": "code",
      "metadata": {
        "colab": {
          "base_uri": "https://localhost:8080/"
        },
        "id": "cdg3uGfGk4W2",
        "outputId": "ca5ce4fa-5dee-478c-d277-2152ade63208"
      },
      "source": [
        "display_keys(tree2, '  ')"
      ],
      "execution_count": 69,
      "outputs": [
        {
          "output_type": "stream",
          "name": "stdout",
          "text": [
            "      8\n",
            "    7\n",
            "      6\n",
            "  5\n",
            "      4\n",
            "    3\n",
            "      ∅\n",
            "2\n",
            "    ∅\n",
            "  3\n",
            "    1\n"
          ]
        }
      ]
    },
    {
      "cell_type": "code",
      "metadata": {
        "colab": {
          "base_uri": "https://localhost:8080/"
        },
        "id": "XMHyGzrYlHjr",
        "outputId": "24ace189-efd9-45ee-99c5-9c5953f39f13"
      },
      "source": [
        "display_keys(tree3, '  ')"
      ],
      "execution_count": 70,
      "outputs": [
        {
          "output_type": "stream",
          "name": "stdout",
          "text": [
            "      8\n",
            "    8\n",
            "      8\n",
            "  7\n",
            "      ∅\n",
            "    4\n",
            "      3\n",
            "4\n",
            "      5\n",
            "    6\n",
            "      4\n",
            "  3\n",
            "      3\n",
            "    1\n",
            "      2\n"
          ]
        }
      ]
    },
    {
      "cell_type": "markdown",
      "metadata": {
        "id": "8FoPDDgEsuAZ"
      },
      "source": [
        "## Traversing a Binary Tree\n",
        "\n",
        "The following questions are frequently asked in coding interviews and assessments:\n",
        "\n",
        "> **QUESTION 3**: Write a function to perform the _inorder_ traversal of a binary tree.\n",
        "\n",
        "> **QUESTION 4**: Write a function to perform the _preorder_ traversal of a binary tree.\n",
        "\n",
        "> **QUESTION 5**: Write a function to perform the _postorder_ traversal of a binary tree.\n",
        "\n",
        "A *traversal* refers to the process of visiting each node of a tree exactly once. _Visiting a node_ generally refers to adding the node's key to a list. There are three ways to traverse a binary tree and return the list of visited keys: \n",
        "\n",
        "### Inorder traversal\n",
        "\n",
        "\n",
        "\n",
        "  1. Traverse the left subtree recursively inorder.\n",
        "  2. Traverse the current node.\n",
        "  3. Traverse the right subtree recursively inorder.\n",
        "\n",
        "\n",
        "<img src=\"https://i.imgur.com/KCXpMA9.png\" width=\"540\">\n",
        "\n",
        "\n",
        "### Preorder traversal\n",
        "\n",
        "  1. Traverse the current node.\n",
        "  2. Traverse the left subtree recursively preorder.\n",
        "  3. Traverse the right subtree recursively preorder.\n",
        "  \n",
        "<img src=\"https://i.imgur.com/2xrMUWP.png\" width=\"540\">\n",
        "\n",
        "\n",
        "Can you guess how **postorder** traversal works??\n",
        "\n",
        "\n",
        "Here's an implementation of inorder traversal of a binary tree.\n",
        "\n",
        "1. From the right subtree.\n",
        "2. Transverse the left subtree\n",
        "3. Then the root node."
      ]
    },
    {
      "cell_type": "code",
      "metadata": {
        "id": "SvjRglh7steG"
      },
      "source": [
        "def traverse_in_order(node):\n",
        "  if node is None:\n",
        "    return []\n",
        "  return (traverse_in_order(node.left) + [node.key] + traverse_in_order(node.right))"
      ],
      "execution_count": 71,
      "outputs": []
    },
    {
      "cell_type": "code",
      "metadata": {
        "id": "7KfseplbmIl7"
      },
      "source": [
        "tree = parse_tuple(((1,3,None), 2, ((None, 3, 4), 5, (6, 7, 8))))"
      ],
      "execution_count": 72,
      "outputs": []
    },
    {
      "cell_type": "code",
      "metadata": {
        "colab": {
          "base_uri": "https://localhost:8080/"
        },
        "id": "Z0wMm1jku-1A",
        "outputId": "12831b78-4f34-4866-90cd-55ad845140ce"
      },
      "source": [
        "display_keys(tree, ' ')"
      ],
      "execution_count": 73,
      "outputs": [
        {
          "output_type": "stream",
          "name": "stdout",
          "text": [
            "   8\n",
            "  7\n",
            "   6\n",
            " 5\n",
            "   4\n",
            "  3\n",
            "   ∅\n",
            "2\n",
            "  ∅\n",
            " 3\n",
            "  1\n"
          ]
        }
      ]
    },
    {
      "cell_type": "code",
      "metadata": {
        "colab": {
          "base_uri": "https://localhost:8080/"
        },
        "id": "Z-VyWDRtvBhu",
        "outputId": "e2bbb5c2-274e-406a-896e-f20607fcd6cb"
      },
      "source": [
        "traverse_in_order(tree)"
      ],
      "execution_count": 74,
      "outputs": [
        {
          "output_type": "execute_result",
          "data": {
            "text/plain": [
              "[1, 3, 2, 3, 4, 5, 6, 7, 8]"
            ]
          },
          "metadata": {},
          "execution_count": 74
        }
      ]
    },
    {
      "cell_type": "code",
      "metadata": {
        "id": "8nSLRAY7vF4Z"
      },
      "source": [
        "def traverse_pre_order(node):\n",
        "  if node is None:\n",
        "    return []\n",
        "  return ([node.key] + traverse_pre_order(node.left) + traverse_pre_order(node.right))"
      ],
      "execution_count": 75,
      "outputs": []
    },
    {
      "cell_type": "code",
      "metadata": {
        "colab": {
          "base_uri": "https://localhost:8080/"
        },
        "id": "sUD0uqCMvaLx",
        "outputId": "61c09c10-5e74-41be-b3b0-9dd961e75292"
      },
      "source": [
        "traverse_pre_order(tree)"
      ],
      "execution_count": 76,
      "outputs": [
        {
          "output_type": "execute_result",
          "data": {
            "text/plain": [
              "[2, 3, 1, 5, 3, 4, 7, 6, 8]"
            ]
          },
          "metadata": {},
          "execution_count": 76
        }
      ]
    },
    {
      "cell_type": "code",
      "metadata": {
        "id": "u-ebtAeXvfyU"
      },
      "source": [
        "def traverse_post_order(node):\n",
        "  if node is None:\n",
        "    return []\n",
        "  return ( traverse_pre_order(node.right) + traverse_pre_order(node.left) + [node.key])"
      ],
      "execution_count": 77,
      "outputs": []
    },
    {
      "cell_type": "code",
      "metadata": {
        "colab": {
          "base_uri": "https://localhost:8080/"
        },
        "id": "XY9G0evqvwYg",
        "outputId": "62eab32f-f1ff-40cd-e4e0-853fc2b18eae"
      },
      "source": [
        "traverse_post_order(tree)"
      ],
      "execution_count": 78,
      "outputs": [
        {
          "output_type": "execute_result",
          "data": {
            "text/plain": [
              "[5, 3, 4, 7, 6, 8, 3, 1, 2]"
            ]
          },
          "metadata": {},
          "execution_count": 78
        }
      ]
    },
    {
      "cell_type": "markdown",
      "metadata": {
        "id": "Wb9rtMXZwRnq"
      },
      "source": [
        "## Height and Size of a Binary Tree\n",
        "\n",
        "\n",
        "> **QUESTION 6**: Write a function to calculate the height/depth of a binary tree\n",
        "\n",
        "> **QUESTION 7**: Write a function to count the number of nodes in a binary tree\n",
        "\n",
        "\n",
        "The _height/depth_ of a binary tree is defined as the length of the longest path from its root node to a leaf. It can be computed recursively, as follows:"
      ]
    },
    {
      "cell_type": "code",
      "metadata": {
        "id": "lyWfIgxTvy3K"
      },
      "source": [
        "def tree_height(node):\n",
        "  if node is None:\n",
        "    return 0\n",
        "  return 1 + max(tree_height(node.left), tree_height(node.right))"
      ],
      "execution_count": 79,
      "outputs": []
    },
    {
      "cell_type": "code",
      "metadata": {
        "colab": {
          "base_uri": "https://localhost:8080/"
        },
        "id": "mHHCdjUqxN5Q",
        "outputId": "2ee3f5ab-6be4-4ecb-a909-e852c2367832"
      },
      "source": [
        "tree_height(tree)"
      ],
      "execution_count": 80,
      "outputs": [
        {
          "output_type": "execute_result",
          "data": {
            "text/plain": [
              "4"
            ]
          },
          "metadata": {},
          "execution_count": 80
        }
      ]
    },
    {
      "cell_type": "code",
      "metadata": {
        "id": "_v2Yn6LRxcWM"
      },
      "source": [
        "#count the number of nodes in a binary tree\n",
        "def tree_size(node):\n",
        "  if node is None:\n",
        "    return 0\n",
        "  return 1 + tree_size(node.left) + tree_size(node.right)"
      ],
      "execution_count": 81,
      "outputs": []
    },
    {
      "cell_type": "code",
      "metadata": {
        "colab": {
          "base_uri": "https://localhost:8080/"
        },
        "id": "G-PdtQvex7Jy",
        "outputId": "6b5e8c47-4fbb-41a4-ec96-dcf0d74fab2d"
      },
      "source": [
        "tree_size(tree)"
      ],
      "execution_count": 82,
      "outputs": [
        {
          "output_type": "execute_result",
          "data": {
            "text/plain": [
              "9"
            ]
          },
          "metadata": {},
          "execution_count": 82
        }
      ]
    },
    {
      "cell_type": "markdown",
      "metadata": {
        "id": "_kQqoyboyDMN"
      },
      "source": [
        "As a final step, let's compile all the functions we've written so far as methods withing the `TreeNode` class itself. Encapsulation of data and functionality within the same class is a good programming practice."
      ]
    },
    {
      "cell_type": "code",
      "metadata": {
        "id": "9yrzcU3ix-Zk"
      },
      "source": [
        "class TreeNode():\n",
        "  def __init__(self, key):\n",
        "    self.key, self.left, self.right = key, None, None\n",
        "\n",
        "  def height(self):\n",
        "    if self is None:\n",
        "      return 0\n",
        "    return 1 + max(TreeNode.height(self.left), TreeNode.height(self.right))\n",
        "    \n",
        "  def size(self):\n",
        "    if self is None:\n",
        "      return 0\n",
        "    return 1 + TreeNode.size(self.left) + TreeNode.size(self.right)\n",
        "\n",
        "  def traverse_in_order(self):\n",
        "    if self is None:\n",
        "      return []\n",
        "    return (TreeNode.traverse_in_order(self.left) + [self.key] + \n",
        "                TreeNode.traverse_in_order(self.right))\n",
        "  \n",
        "  def display_keys(self, space='\\t', level=0):\n",
        "    # If the node is empty\n",
        "    if self is None:\n",
        "        print(space*level + '∅')\n",
        "        return   \n",
        "\n",
        "    # If the node is a leaf \n",
        "    if self.left is None and self.right is None:\n",
        "        print(space*level + str(self.key))\n",
        "        return\n",
        "\n",
        "    # If the node has children\n",
        "    display_keys(self.right, space, level+1)\n",
        "    print(space*level + str(self.key))\n",
        "    display_keys(self.left,space, level+1)\n",
        "\n",
        "  def to_tuple(self):\n",
        "    if self is None:\n",
        "      return None\n",
        "    if self.left is None and self.right is None:\n",
        "      return self.key\n",
        "    return TreeNode.to_tuple(self.left), self.key, TreeNode.to_tuple(self.right)\n",
        "  \n",
        "  def __str__(self):\n",
        "    return \"BinaryTree <{}>\".format(self.to_tuple())\n",
        "    \n",
        "  def __repr__(self):\n",
        "    return \"BinaryTree <{}>\".format(self.to_tuple())\n",
        "    \n",
        "  @staticmethod\n",
        "  def parse_tuple(data):\n",
        "    if data is None:\n",
        "        node = None\n",
        "    elif isinstance(data, tuple) and len(data) == 3:\n",
        "        node = TreeNode(data[1])\n",
        "        node.left = TreeNode.parse_tuple(data[0])\n",
        "        node.right = TreeNode.parse_tuple(data[2])\n",
        "    else:\n",
        "        node = TreeNode(data)\n",
        "    return node"
      ],
      "execution_count": 83,
      "outputs": []
    },
    {
      "cell_type": "code",
      "metadata": {
        "colab": {
          "base_uri": "https://localhost:8080/"
        },
        "id": "d5xVjndhyyLn",
        "outputId": "3ea2532c-ca46-4438-ae71-4c2bd5167f76"
      },
      "source": [
        "tree_tuple"
      ],
      "execution_count": 84,
      "outputs": [
        {
          "output_type": "execute_result",
          "data": {
            "text/plain": [
              "((1, 3, None), 2, ((None, 3, 4), 5, (6, 7, 8)))"
            ]
          },
          "metadata": {},
          "execution_count": 84
        }
      ]
    },
    {
      "cell_type": "code",
      "metadata": {
        "id": "Iry4vEsD0c7E"
      },
      "source": [
        "tree= TreeNode.parse_tuple(tree_tuple)"
      ],
      "execution_count": 85,
      "outputs": []
    },
    {
      "cell_type": "code",
      "metadata": {
        "colab": {
          "base_uri": "https://localhost:8080/"
        },
        "id": "f0LetLGa0huW",
        "outputId": "8c47aa90-1ba7-4019-9162-8e0339341156"
      },
      "source": [
        "tree"
      ],
      "execution_count": 86,
      "outputs": [
        {
          "output_type": "execute_result",
          "data": {
            "text/plain": [
              "BinaryTree <((1, 3, None), 2, ((None, 3, 4), 5, (6, 7, 8)))>"
            ]
          },
          "metadata": {},
          "execution_count": 86
        }
      ]
    },
    {
      "cell_type": "code",
      "metadata": {
        "colab": {
          "base_uri": "https://localhost:8080/"
        },
        "id": "HVv0-42f0jAk",
        "outputId": "daecdd0d-e22b-487c-ecdb-a050cac1a22e"
      },
      "source": [
        "tree.display_keys(' ')"
      ],
      "execution_count": 87,
      "outputs": [
        {
          "output_type": "stream",
          "name": "stdout",
          "text": [
            "   8\n",
            "  7\n",
            "   6\n",
            " 5\n",
            "   4\n",
            "  3\n",
            "   ∅\n",
            "2\n",
            "  ∅\n",
            " 3\n",
            "  1\n"
          ]
        }
      ]
    },
    {
      "cell_type": "code",
      "metadata": {
        "colab": {
          "base_uri": "https://localhost:8080/"
        },
        "id": "O3thRhV40oWE",
        "outputId": "bcf4f1a1-0e98-44a1-e4df-aa56448f3d7e"
      },
      "source": [
        "tree.height()"
      ],
      "execution_count": 88,
      "outputs": [
        {
          "output_type": "execute_result",
          "data": {
            "text/plain": [
              "4"
            ]
          },
          "metadata": {},
          "execution_count": 88
        }
      ]
    },
    {
      "cell_type": "code",
      "metadata": {
        "colab": {
          "base_uri": "https://localhost:8080/"
        },
        "id": "opHs3Nay0s6h",
        "outputId": "16f98289-2527-4eed-8072-d181fb1d5cd1"
      },
      "source": [
        "tree.size()"
      ],
      "execution_count": 89,
      "outputs": [
        {
          "output_type": "execute_result",
          "data": {
            "text/plain": [
              "9"
            ]
          },
          "metadata": {},
          "execution_count": 89
        }
      ]
    },
    {
      "cell_type": "code",
      "metadata": {
        "colab": {
          "base_uri": "https://localhost:8080/"
        },
        "id": "IS5v6G2D0uOV",
        "outputId": "d23ec359-ed5a-4b46-f890-d4d2146b8381"
      },
      "source": [
        "tree.traverse_in_order()"
      ],
      "execution_count": 90,
      "outputs": [
        {
          "output_type": "execute_result",
          "data": {
            "text/plain": [
              "[1, 3, 2, 3, 4, 5, 6, 7, 8]"
            ]
          },
          "metadata": {},
          "execution_count": 90
        }
      ]
    },
    {
      "cell_type": "code",
      "metadata": {
        "colab": {
          "base_uri": "https://localhost:8080/"
        },
        "id": "yGvywTD10xxc",
        "outputId": "fc4f7f1f-864d-4daa-9203-74de15d14797"
      },
      "source": [
        "tree.to_tuple()"
      ],
      "execution_count": 91,
      "outputs": [
        {
          "output_type": "execute_result",
          "data": {
            "text/plain": [
              "((1, 3, None), 2, ((None, 3, 4), 5, (6, 7, 8)))"
            ]
          },
          "metadata": {},
          "execution_count": 91
        }
      ]
    },
    {
      "cell_type": "markdown",
      "metadata": {
        "id": "mQC4MyWb4jnU"
      },
      "source": [
        "**Exercise**: Create some more trees and try out the operations defined above. Add more operations to the TreeNode class."
      ]
    },
    {
      "cell_type": "code",
      "metadata": {
        "id": "XmSNC92n4xQx"
      },
      "source": [
        ""
      ],
      "execution_count": 91,
      "outputs": []
    },
    {
      "cell_type": "code",
      "metadata": {
        "id": "W7rY4zrm4xMr"
      },
      "source": [
        ""
      ],
      "execution_count": 91,
      "outputs": []
    },
    {
      "cell_type": "markdown",
      "metadata": {
        "id": "m9NcExpO0-hf"
      },
      "source": [
        "# Binary Search Tree"
      ]
    },
    {
      "cell_type": "markdown",
      "metadata": {
        "id": "QY8P_LTE51vg"
      },
      "source": [
        "The binary search tree is a binary tree that follows the above condition;\n",
        "* The left subtree of any node only contains node with keys less than the node's key.\n",
        "* The right subtree of any node only contains nodes with keys greater than the node's key.\n",
        "\n",
        "**Questions**\n",
        "\n",
        "* **Question8**: Write a function to check if a binary tree is a binary search tree.\n",
        "\n",
        "* **Question9**: Write a function to find the maximum key in a binary tree.\n",
        "\n",
        "* **Question10**: Write a function to find the minimum key in a binary tree.\n"
      ]
    },
    {
      "cell_type": "code",
      "metadata": {
        "id": "4gVbhY8O0zoN"
      },
      "source": [
        "def remove_none(nums):\n",
        "  return [x for x in nums if x is not None]\n",
        "\n",
        "def is_bst(node):\n",
        "  if node is None:\n",
        "    return True, None, None\n",
        "\n",
        "  is_bst_l, min_l,max_l = is_bst(node.left)\n",
        "  is_bst_r, min_r, max_r = is_bst(node.right)\n",
        "  print(is_bst_l, is_bst_r, min_l, min_r, max_l, max_r)\n",
        "\n",
        "  is_bst_node= (is_bst_l and is_bst_r and (max_l is None or node.key > max_l)\n",
        "                and (min_r is None or node.key < min_r))\n",
        "  \n",
        "  min_key= min(remove_none([min_l, node.key, min_r]))\n",
        "  max_key= max(remove_none([max_l, node.key, max_r]))\n",
        "\n",
        "  print(node.key, min_key, max_key, is_bst_node)\n",
        "  return is_bst_node, min_key, max_key"
      ],
      "execution_count": 92,
      "outputs": []
    },
    {
      "cell_type": "markdown",
      "metadata": {
        "id": "JojEQcYuByct"
      },
      "source": [
        "The following tree is not a BST (because a node with the key 3 appears in the left subtree of a node with the key 2):\n",
        "\n",
        "<img src=\"https://i.imgur.com/d7djJAf.png\" width=\"540\">\n",
        "\n",
        "Let's verify this using `is_bst`."
      ]
    },
    {
      "cell_type": "code",
      "metadata": {
        "id": "NURt5gCe9l5c"
      },
      "source": [
        "tree1 = TreeNode.parse_tuple(((1, 3, None), 2, ((None, 3, 4), 5, (6, 7, 8))))"
      ],
      "execution_count": 93,
      "outputs": []
    },
    {
      "cell_type": "code",
      "metadata": {
        "colab": {
          "base_uri": "https://localhost:8080/"
        },
        "id": "qU2Jj0vsATsa",
        "outputId": "db855aca-8ab8-4ca7-b4e0-110f1be8d0be"
      },
      "source": [
        "display_keys(tree1)"
      ],
      "execution_count": 94,
      "outputs": [
        {
          "output_type": "stream",
          "name": "stdout",
          "text": [
            "\t\t\t8\n",
            "\t\t7\n",
            "\t\t\t6\n",
            "\t5\n",
            "\t\t\t4\n",
            "\t\t3\n",
            "\t\t\t∅\n",
            "2\n",
            "\t\t∅\n",
            "\t3\n",
            "\t\t1\n"
          ]
        }
      ]
    },
    {
      "cell_type": "code",
      "metadata": {
        "colab": {
          "base_uri": "https://localhost:8080/"
        },
        "id": "dplXLCcnAhpU",
        "outputId": "7c044536-c35c-4959-ff87-96af1f6e2835"
      },
      "source": [
        "is_bst(tree1)"
      ],
      "execution_count": 95,
      "outputs": [
        {
          "output_type": "stream",
          "name": "stdout",
          "text": [
            "True True None None None None\n",
            "1 1 1 True\n",
            "True True 1 None 1 None\n",
            "3 1 3 True\n",
            "True True None None None None\n",
            "4 4 4 True\n",
            "True True None 4 None 4\n",
            "3 3 4 True\n",
            "True True None None None None\n",
            "6 6 6 True\n",
            "True True None None None None\n",
            "8 8 8 True\n",
            "True True 6 8 6 8\n",
            "7 6 8 True\n",
            "True True 3 6 4 8\n",
            "5 3 8 True\n",
            "True True 1 3 3 8\n",
            "2 1 8 False\n"
          ]
        },
        {
          "output_type": "execute_result",
          "data": {
            "text/plain": [
              "(False, 1, 8)"
            ]
          },
          "metadata": {},
          "execution_count": 95
        }
      ]
    },
    {
      "cell_type": "markdown",
      "metadata": {
        "id": "Q_2h9rxpB2lh"
      },
      "source": [
        "On the other hand, the following tree is a BST:\n",
        "\n",
        "<img src=\"https://i.imgur.com/JZeF9ix.png\" width=\"520\">\n",
        "\n",
        "Let's create this tree and verify that it is a BST. Note that the `TreeNode` class also supports using strings as keys, as strings support the comparison operators `<` and `>` too."
      ]
    },
    {
      "cell_type": "code",
      "metadata": {
        "id": "9XzKFt6VAn8R"
      },
      "source": [
        "tree2= TreeNode.parse_tuple((('aakash', 'biraj', 'hemanth'), 'jadesh', ('siddhant', 'sonaksh', 'vishal')))"
      ],
      "execution_count": 96,
      "outputs": []
    },
    {
      "cell_type": "code",
      "metadata": {
        "colab": {
          "base_uri": "https://localhost:8080/"
        },
        "id": "AM8UVXSJCUHl",
        "outputId": "6da9bafd-9a82-4aed-fe4e-5974f5b6ae14"
      },
      "source": [
        "is_bst(tree2)"
      ],
      "execution_count": 97,
      "outputs": [
        {
          "output_type": "stream",
          "name": "stdout",
          "text": [
            "True True None None None None\n",
            "aakash aakash aakash True\n",
            "True True None None None None\n",
            "hemanth hemanth hemanth True\n",
            "True True aakash hemanth aakash hemanth\n",
            "biraj aakash hemanth True\n",
            "True True None None None None\n",
            "siddhant siddhant siddhant True\n",
            "True True None None None None\n",
            "vishal vishal vishal True\n",
            "True True siddhant vishal siddhant vishal\n",
            "sonaksh siddhant vishal True\n",
            "True True aakash siddhant hemanth vishal\n",
            "jadesh aakash vishal True\n"
          ]
        },
        {
          "output_type": "execute_result",
          "data": {
            "text/plain": [
              "(True, 'aakash', 'vishal')"
            ]
          },
          "metadata": {},
          "execution_count": 97
        }
      ]
    },
    {
      "cell_type": "markdown",
      "metadata": {
        "id": "DNfc9skKErpH"
      },
      "source": [
        "**Exercise**: Test the `is_bst` function with some more examples using the empty cells below;"
      ]
    },
    {
      "cell_type": "code",
      "metadata": {
        "id": "URKLi9RCEjme"
      },
      "source": [
        "tree3= TreeNode.parse_tuple(((1, 2, 3), 4, ((5, 5, 6), 7, (8, 8, 9))))"
      ],
      "execution_count": 98,
      "outputs": []
    },
    {
      "cell_type": "code",
      "metadata": {
        "colab": {
          "base_uri": "https://localhost:8080/"
        },
        "id": "pvH1p1ifFDiB",
        "outputId": "1aa182ee-bff1-4146-9cca-54c03430d6c8"
      },
      "source": [
        "is_bst(tree3)"
      ],
      "execution_count": 99,
      "outputs": [
        {
          "output_type": "stream",
          "name": "stdout",
          "text": [
            "True True None None None None\n",
            "1 1 1 True\n",
            "True True None None None None\n",
            "3 3 3 True\n",
            "True True 1 3 1 3\n",
            "2 1 3 True\n",
            "True True None None None None\n",
            "5 5 5 True\n",
            "True True None None None None\n",
            "6 6 6 True\n",
            "True True 5 6 5 6\n",
            "5 5 6 False\n",
            "True True None None None None\n",
            "8 8 8 True\n",
            "True True None None None None\n",
            "9 9 9 True\n",
            "True True 8 9 8 9\n",
            "8 8 9 False\n",
            "False False 5 8 6 9\n",
            "7 5 9 False\n",
            "True False 1 5 3 9\n",
            "4 1 9 False\n"
          ]
        },
        {
          "output_type": "execute_result",
          "data": {
            "text/plain": [
              "(False, 1, 9)"
            ]
          },
          "metadata": {},
          "execution_count": 99
        }
      ]
    },
    {
      "cell_type": "markdown",
      "metadata": {
        "id": "oIU3hWZ0G3OY"
      },
      "source": [
        "# Storing Key-Value Pairs using BSTs\n",
        "\n",
        "Recall that we need to store user objects with each key in our BST. Let's define new class `BSTNode` to represent the nodes of of our tree. Apart from having properties `key`, `left` and `right`, we'll also store a `value` and pointer to the parent node (for easier upward traversal)."
      ]
    },
    {
      "cell_type": "code",
      "metadata": {
        "id": "GwKqwh7wFGkD"
      },
      "source": [
        "class BSTNode():\n",
        "  def __init__(self, key, value= None):\n",
        "    self.key= key\n",
        "    self.value = value\n",
        "    self.left= None\n",
        "    self.right= None\n",
        "    self.parent= None"
      ],
      "execution_count": 100,
      "outputs": []
    },
    {
      "cell_type": "code",
      "metadata": {
        "id": "lAO_obKfHlAA"
      },
      "source": [
        "tree= BSTNode(jadhesh.username, jadhesh)"
      ],
      "execution_count": 101,
      "outputs": []
    },
    {
      "cell_type": "code",
      "metadata": {
        "colab": {
          "base_uri": "https://localhost:8080/"
        },
        "id": "qvGetO-gHy6U",
        "outputId": "bd973ec1-c6d3-41a3-e83a-4d4aca804432"
      },
      "source": [
        "tree.key, tree.value"
      ],
      "execution_count": 102,
      "outputs": [
        {
          "output_type": "execute_result",
          "data": {
            "text/plain": [
              "('jadhesh',\n",
              " User(username='jadhesh', name='Jadhesh Verma', email='jadhesh@example.com'))"
            ]
          },
          "metadata": {},
          "execution_count": 102
        }
      ]
    },
    {
      "cell_type": "code",
      "metadata": {
        "id": "8Kyb7M-1H4m7"
      },
      "source": [
        "tree.left = BSTNode(biraj.username, biraj)\n",
        "tree.right = BSTNode(sonaksh.username, sonaksh)"
      ],
      "execution_count": 103,
      "outputs": []
    },
    {
      "cell_type": "code",
      "metadata": {
        "colab": {
          "base_uri": "https://localhost:8080/"
        },
        "id": "8lW7tOlZIwOd",
        "outputId": "b73178f6-7a2a-48f3-d12e-1ce72f14470c"
      },
      "source": [
        "tree.left.key, tree.left.value, tree.right.key, tree.right.value"
      ],
      "execution_count": 104,
      "outputs": [
        {
          "output_type": "execute_result",
          "data": {
            "text/plain": [
              "('biraj',\n",
              " User(username='biraj', name='Biraj Das', email='biraj@example.com'),\n",
              " 'sonaksh',\n",
              " User(username='sonaksh', name='Sonaksh Kumar', email='sonaksh@example.com'))"
            ]
          },
          "metadata": {},
          "execution_count": 104
        }
      ]
    },
    {
      "cell_type": "code",
      "metadata": {
        "id": "p1pCLBrIJI4p"
      },
      "source": [
        "tree.left.left= BSTNode(aakash.username, aakash)\n",
        "tree.left.right= BSTNode(hemanth.username, hemanth)\n",
        "tree.right.left= BSTNode(siddhant.username, siddhant)\n",
        "tree.right.right= BSTNode(vishal.username, vishal)"
      ],
      "execution_count": 105,
      "outputs": []
    },
    {
      "cell_type": "code",
      "metadata": {
        "colab": {
          "base_uri": "https://localhost:8080/"
        },
        "id": "hg0F9Xz7JxR7",
        "outputId": "c7c17e0b-c66f-42d0-d5db-cd6fea35819b"
      },
      "source": [
        "tree.left.left.key, tree.left.left.value, tree.right.right.key, tree.right.right.value"
      ],
      "execution_count": 106,
      "outputs": [
        {
          "output_type": "execute_result",
          "data": {
            "text/plain": [
              "('aakash',\n",
              " User(username='aakash', name='Aakash Rai', email='aakash@example.com'),\n",
              " 'vishal',\n",
              " User(username='vishal', name='Vishal Goel', email='vishal@example.com'))"
            ]
          },
          "metadata": {},
          "execution_count": 106
        }
      ]
    },
    {
      "cell_type": "code",
      "metadata": {
        "colab": {
          "base_uri": "https://localhost:8080/"
        },
        "id": "ia2Gx1znJ80u",
        "outputId": "4f370282-4aee-419b-d528-d7b192713890"
      },
      "source": [
        "display_keys(tree)"
      ],
      "execution_count": 107,
      "outputs": [
        {
          "output_type": "stream",
          "name": "stdout",
          "text": [
            "\t\tvishal\n",
            "\tsonaksh\n",
            "\t\tsiddhant\n",
            "jadhesh\n",
            "\t\themanth\n",
            "\tbiraj\n",
            "\t\taakash\n"
          ]
        }
      ]
    },
    {
      "cell_type": "markdown",
      "metadata": {
        "id": "Mt6U6WryKK1o"
      },
      "source": [
        "## Insertion into BST\n",
        "\n",
        "**Question11**: Write a function to insert a new node into a BST.\n",
        "\n",
        "How?\n",
        "\n",
        "1. Starting from the root node, we compare the key to be inserted eith the curren't node's key.\n",
        "2. if the key is smaller, we recursively insert in the left subtree(if it exists) or attac it as the left child if no left subtree exists.\n",
        "3. If the key is larger, we recursively insert it in the right subtree(if exists) or attach it as the child if no right subtree exists.\n",
        "\n",
        "Implementation"
      ]
    },
    {
      "cell_type": "code",
      "metadata": {
        "id": "6T75KlmWKF9-"
      },
      "source": [
        "def insert(node, key, value):\n",
        "  if node is None:\n",
        "    node= BSTNode(key, value)\n",
        "  elif key < node.key:\n",
        "    node.left= insert(node.left, key, value)\n",
        "    node.left.parent= node0\n",
        "  elif key > node.key:\n",
        "    node.right= insert(node.right, key, value)\n",
        "    node.right.parent = node\n",
        "  return node"
      ],
      "execution_count": 108,
      "outputs": []
    },
    {
      "cell_type": "markdown",
      "metadata": {
        "id": "wFEEYNV4NlWE"
      },
      "source": [
        "Let's use this to recreate our tree.\n",
        "\n",
        "<img src=\"https://i.imgur.com/JZeF9ix.png\" width=\"520\">\n",
        "\n",
        "To create the first node, we can use the `insert` function with `None` as the target tree."
      ]
    },
    {
      "cell_type": "code",
      "metadata": {
        "id": "8v2wPLETNlAt"
      },
      "source": [
        "tree= insert(None, jadhesh.username, jadhesh)"
      ],
      "execution_count": 109,
      "outputs": []
    },
    {
      "cell_type": "code",
      "metadata": {
        "colab": {
          "base_uri": "https://localhost:8080/"
        },
        "id": "sIVLpscLNXvw",
        "outputId": "3a992f0a-bf67-4c18-975d-679d539e740e"
      },
      "source": [
        "insert(tree, biraj.username, biraj)\n",
        "insert(tree, sonaksh.username, sonaksh)\n",
        "insert(tree, aakash.username, aakash)\n",
        "insert(tree, hemanth.username, hemanth)\n",
        "insert(tree, siddhant.username, siddhant)\n",
        "insert(tree, vishal.username, siddhant)"
      ],
      "execution_count": 110,
      "outputs": [
        {
          "output_type": "execute_result",
          "data": {
            "text/plain": [
              "<__main__.BSTNode at 0x7f97fb0d5690>"
            ]
          },
          "metadata": {},
          "execution_count": 110
        }
      ]
    },
    {
      "cell_type": "code",
      "metadata": {
        "colab": {
          "base_uri": "https://localhost:8080/"
        },
        "id": "Zr1EQ-x3N2A-",
        "outputId": "46562274-6df5-4cce-e391-6a2cc70bf7a4"
      },
      "source": [
        "display_keys(tree)"
      ],
      "execution_count": 111,
      "outputs": [
        {
          "output_type": "stream",
          "name": "stdout",
          "text": [
            "\t\tvishal\n",
            "\tsonaksh\n",
            "\t\tsiddhant\n",
            "jadhesh\n",
            "\t\themanth\n",
            "\tbiraj\n",
            "\t\taakash\n"
          ]
        }
      ]
    },
    {
      "cell_type": "markdown",
      "metadata": {
        "id": "Lxe-tAAOOFyF"
      },
      "source": [
        "Note that, the order of insertion of nodes change the structure of the resulting tree."
      ]
    },
    {
      "cell_type": "code",
      "metadata": {
        "colab": {
          "base_uri": "https://localhost:8080/"
        },
        "id": "WhdamJWhOYLq",
        "outputId": "1ce04e50-e4e9-494e-cc04-5545fdfc7399"
      },
      "source": [
        "tree2 = insert(None, aakash.username, aakash)\n",
        "insert(tree2, biraj.username, biraj)\n",
        "insert(tree2, hemanth.username, hemanth)\n",
        "insert(tree2, jadhesh.username, jadhesh)\n",
        "insert(tree2, siddhant.username, siddhant)\n",
        "insert(tree2, sonaksh.username, sonaksh)\n",
        "insert(tree2, vishal.username, vishal)"
      ],
      "execution_count": 112,
      "outputs": [
        {
          "output_type": "execute_result",
          "data": {
            "text/plain": [
              "<__main__.BSTNode at 0x7f97fb11d150>"
            ]
          },
          "metadata": {},
          "execution_count": 112
        }
      ]
    },
    {
      "cell_type": "code",
      "metadata": {
        "colab": {
          "base_uri": "https://localhost:8080/"
        },
        "id": "dmoM2gQxN9GU",
        "outputId": "345d9c01-bb85-4e72-f593-0e5f12c33c3e"
      },
      "source": [
        "display_keys(tree2)"
      ],
      "execution_count": 113,
      "outputs": [
        {
          "output_type": "stream",
          "name": "stdout",
          "text": [
            "\t\t\t\t\t\tvishal\n",
            "\t\t\t\t\tsonaksh\n",
            "\t\t\t\t\t\t∅\n",
            "\t\t\t\tsiddhant\n",
            "\t\t\t\t\t∅\n",
            "\t\t\tjadhesh\n",
            "\t\t\t\t∅\n",
            "\t\themanth\n",
            "\t\t\t∅\n",
            "\tbiraj\n",
            "\t\t∅\n",
            "aakash\n",
            "\t∅\n"
          ]
        }
      ]
    },
    {
      "cell_type": "markdown",
      "metadata": {
        "id": "SKvIxgL1OckD"
      },
      "source": [
        "The tree made above is skewed or unbalanced.\n",
        "\n",
        "Can you see why the tree created above is skewed/unbalanced?\n",
        "\n",
        "<img src=\"https://i.imgur.com/lP5Thct.png\" width=\"520\">\n",
        "\n",
        "Skewed/unbalanced BSTs are problematic because the height of such trees often ceases to logarithmic compared to the number of nodes in the tree. For instance the above tree has 7 nodes and height 7.\n",
        "\n",
        "The length of the path traversed by `insert` is equal to the height of the tree (in the worst case). It follows that if the tree is balanced, the time complexity of insertion is `O(log N)` otherwise it is `O(N)`."
      ]
    },
    {
      "cell_type": "code",
      "metadata": {
        "colab": {
          "base_uri": "https://localhost:8080/"
        },
        "id": "BSYgVpFxOT4R",
        "outputId": "0133a4ae-ecda-4d53-eae6-4092fb5c3a95"
      },
      "source": [
        "tree_height(tree)"
      ],
      "execution_count": 114,
      "outputs": [
        {
          "output_type": "execute_result",
          "data": {
            "text/plain": [
              "3"
            ]
          },
          "metadata": {},
          "execution_count": 114
        }
      ]
    },
    {
      "cell_type": "code",
      "metadata": {
        "colab": {
          "base_uri": "https://localhost:8080/"
        },
        "id": "wYPEZcLBOzj5",
        "outputId": "c0b18dfb-e56a-4e9f-ff4c-09788e3c241e"
      },
      "source": [
        "tree_height(tree2)"
      ],
      "execution_count": 115,
      "outputs": [
        {
          "output_type": "execute_result",
          "data": {
            "text/plain": [
              "7"
            ]
          },
          "metadata": {},
          "execution_count": 115
        }
      ]
    },
    {
      "cell_type": "markdown",
      "metadata": {
        "id": "QnLa5_u8O8Kc"
      },
      "source": [
        "**Exercise:** Create some more balanced and unbalanced BSTs using the `insert` function defined above."
      ]
    },
    {
      "cell_type": "code",
      "metadata": {
        "id": "rls7n11mO2B4"
      },
      "source": [
        ""
      ],
      "execution_count": 115,
      "outputs": []
    },
    {
      "cell_type": "code",
      "metadata": {
        "id": "NYb4KON1Soq9"
      },
      "source": [
        ""
      ],
      "execution_count": 115,
      "outputs": []
    },
    {
      "cell_type": "markdown",
      "metadata": {
        "id": "VJgga62ASpX8"
      },
      "source": [
        "### Finding a Node in BST\n",
        "\n",
        "> **QUESTION 11**: Find the value associated with a given key in a BST.\n",
        "\n",
        "We can follow a recursive strategy similar to insertion to find the node with a given key within a BST."
      ]
    },
    {
      "cell_type": "code",
      "metadata": {
        "id": "7F6pPROpSwAZ"
      },
      "source": [
        "def find(node, key):\n",
        "  if node is None:\n",
        "    return None\n",
        "  if key == node.key:\n",
        "    return node\n",
        "  if key < node.key:\n",
        "    return find(node.left, key)\n",
        "  if key > node.key:\n",
        "    return find(node.right, key)"
      ],
      "execution_count": 116,
      "outputs": []
    },
    {
      "cell_type": "code",
      "metadata": {
        "id": "YWiCQ4TrSv8t"
      },
      "source": [
        "node= find(tree, 'hemanth')"
      ],
      "execution_count": 117,
      "outputs": []
    },
    {
      "cell_type": "code",
      "metadata": {
        "colab": {
          "base_uri": "https://localhost:8080/"
        },
        "id": "e0VGNk1hSv5U",
        "outputId": "b4dde3f2-1139-4ed1-d9d6-6d7249ba1234"
      },
      "source": [
        "node.key, node.value"
      ],
      "execution_count": 118,
      "outputs": [
        {
          "output_type": "execute_result",
          "data": {
            "text/plain": [
              "('hemanth',\n",
              " User(username='hemanth', name='Hemanth Jain', email='hemanth@example.com'))"
            ]
          },
          "metadata": {},
          "execution_count": 118
        }
      ]
    },
    {
      "cell_type": "code",
      "metadata": {
        "id": "HiEDTe6ETjTS"
      },
      "source": [
        "node2= find(tree, 'siddhant')"
      ],
      "execution_count": 119,
      "outputs": []
    },
    {
      "cell_type": "code",
      "metadata": {
        "colab": {
          "base_uri": "https://localhost:8080/"
        },
        "id": "umsjoDpQTyiX",
        "outputId": "95db2192-b36a-4691-a19a-19683705da74"
      },
      "source": [
        "node2.key, node2.value"
      ],
      "execution_count": 120,
      "outputs": [
        {
          "output_type": "execute_result",
          "data": {
            "text/plain": [
              "('siddhant',\n",
              " User(username='siddhant', name='Siddhant U', email='siddhantu@example.com'))"
            ]
          },
          "metadata": {},
          "execution_count": 120
        }
      ]
    },
    {
      "cell_type": "markdown",
      "metadata": {
        "id": "qyZFOKhaUDLI"
      },
      "source": [
        "### Updating a value in a BST\n",
        "\n",
        "> **QUESTION 12:** Write a function to update the value associated with a given key within a BST\n",
        "\n",
        "We can use `find` to locate the node to be updated, and simply update it's value."
      ]
    },
    {
      "cell_type": "code",
      "metadata": {
        "id": "Nz6Z-9x1T2MV"
      },
      "source": [
        "def update(node, key, value):\n",
        "  target= find(node, key)\n",
        "  if target is not None:\n",
        "    target.value= value"
      ],
      "execution_count": 121,
      "outputs": []
    },
    {
      "cell_type": "code",
      "metadata": {
        "id": "O7yWp-8jVvfH"
      },
      "source": [
        "update(tree, 'hemanth', User('hemanth', 'Hemanth J', 'hemanthj@example.com'))"
      ],
      "execution_count": 122,
      "outputs": []
    },
    {
      "cell_type": "code",
      "metadata": {
        "colab": {
          "base_uri": "https://localhost:8080/"
        },
        "id": "4N-ZYRYAVyeB",
        "outputId": "449e39a0-0d64-4f0d-edc8-aac7c88955ca"
      },
      "source": [
        "node= find(tree, 'hemanth')\n",
        "node.value"
      ],
      "execution_count": 123,
      "outputs": [
        {
          "output_type": "execute_result",
          "data": {
            "text/plain": [
              "User(username='hemanth', name='Hemanth J', email='hemanthj@example.com')"
            ]
          },
          "metadata": {},
          "execution_count": 123
        }
      ]
    },
    {
      "cell_type": "markdown",
      "metadata": {
        "id": "-oAKsJNEV_Cd"
      },
      "source": [
        "Note: The time complexity of Insert, Find, Update are the same"
      ]
    },
    {
      "cell_type": "markdown",
      "metadata": {
        "id": "dveO2MGzWoDP"
      },
      "source": [
        "### List the nodes\n",
        "\n",
        "> **QUESTION 13:** Write a function to retrieve all the key-values pairs stored in a BST in the sorted order of keys.\n",
        "\n",
        "The nodes can be listed in sorted order by performing an inorder traversal of the BST."
      ]
    },
    {
      "cell_type": "code",
      "metadata": {
        "id": "lO6iSbXrV4Aa"
      },
      "source": [
        "def list_all(node):\n",
        "  if node is None:\n",
        "    return []\n",
        "  return list_all(node.left) + [(node.key, node.value)] + list_all(node.right)"
      ],
      "execution_count": 124,
      "outputs": []
    },
    {
      "cell_type": "code",
      "metadata": {
        "colab": {
          "base_uri": "https://localhost:8080/"
        },
        "id": "o4qVa2AHW_17",
        "outputId": "9a547e85-cad6-4d35-c7e2-7ac9145c16b4"
      },
      "source": [
        "list_all(tree)"
      ],
      "execution_count": 125,
      "outputs": [
        {
          "output_type": "execute_result",
          "data": {
            "text/plain": [
              "[('aakash',\n",
              "  User(username='aakash', name='Aakash Rai', email='aakash@example.com')),\n",
              " ('biraj',\n",
              "  User(username='biraj', name='Biraj Das', email='biraj@example.com')),\n",
              " ('hemanth',\n",
              "  User(username='hemanth', name='Hemanth J', email='hemanthj@example.com')),\n",
              " ('jadhesh',\n",
              "  User(username='jadhesh', name='Jadhesh Verma', email='jadhesh@example.com')),\n",
              " ('siddhant',\n",
              "  User(username='siddhant', name='Siddhant U', email='siddhantu@example.com')),\n",
              " ('sonaksh',\n",
              "  User(username='sonaksh', name='Sonaksh Kumar', email='sonaksh@example.com')),\n",
              " ('vishal',\n",
              "  User(username='siddhant', name='Siddhant U', email='siddhantu@example.com'))]"
            ]
          },
          "metadata": {},
          "execution_count": 125
        }
      ]
    },
    {
      "cell_type": "markdown",
      "metadata": {
        "id": "zEPoPbr-XHTZ"
      },
      "source": [
        "**Exercise:** Determine the time complexity and space complexity of `list_all`."
      ]
    },
    {
      "cell_type": "code",
      "metadata": {
        "id": "-hT356ovXCLe"
      },
      "source": [
        ""
      ],
      "execution_count": 125,
      "outputs": []
    },
    {
      "cell_type": "markdown",
      "metadata": {
        "id": "I0oiDlkFXKD2"
      },
      "source": [
        "# Balanced Binary Trees\n",
        "\n",
        "A recursive strategy;\n",
        "1. Ensure that the left subtree is balanced.\n",
        "2. Ensure that the right subtree is balanced.\n",
        "3. Ensure that the difference between heights of left subtree is not more than 1."
      ]
    },
    {
      "cell_type": "code",
      "metadata": {
        "id": "Sczg4t54XtSY"
      },
      "source": [
        "def is_balanced(node):\n",
        "  if node is None:\n",
        "    return True, 0\n",
        "  balanced_l, height_l= is_balanced(node.left)\n",
        "  balanced_r, height_r= is_balanced(node.right)\n",
        "  balanced= balanced_l and balanced_r and abs(height_l - height_r) <= 1\n",
        "  height= 1 + max(height_l, height_r)\n",
        "  return balanced, height"
      ],
      "execution_count": 126,
      "outputs": []
    },
    {
      "cell_type": "code",
      "metadata": {
        "colab": {
          "base_uri": "https://localhost:8080/"
        },
        "id": "G2thJtkSfwTe",
        "outputId": "1283b3da-1f45-42d4-b255-026a76b90b69"
      },
      "source": [
        "is_balanced(tree)"
      ],
      "execution_count": 127,
      "outputs": [
        {
          "output_type": "execute_result",
          "data": {
            "text/plain": [
              "(True, 3)"
            ]
          },
          "metadata": {},
          "execution_count": 127
        }
      ]
    },
    {
      "cell_type": "markdown",
      "metadata": {
        "id": "nq4yfsHYgvj4"
      },
      "source": [
        "The following tree is not balanced:\n",
        "\n",
        "<img src=\"https://i.imgur.com/lP5Thct.png\" width=\"520\">"
      ]
    },
    {
      "cell_type": "code",
      "metadata": {
        "colab": {
          "base_uri": "https://localhost:8080/"
        },
        "id": "jyMh3GH3gGnP",
        "outputId": "e83d66a1-65d9-4a68-85ac-a6e84758941b"
      },
      "source": [
        "is_balanced(tree2)"
      ],
      "execution_count": 128,
      "outputs": [
        {
          "output_type": "execute_result",
          "data": {
            "text/plain": [
              "(False, 7)"
            ]
          },
          "metadata": {},
          "execution_count": 128
        }
      ]
    },
    {
      "cell_type": "markdown",
      "metadata": {
        "id": "KoiJldaug_lV"
      },
      "source": [
        "**Exercise:** Is the tree shown below balanced? Why or why not? Create this tree and check if it's balanced using the `is_balanced` function.\n",
        "\n",
        "<img src=\"https://i.imgur.com/LlOT712.png\" width=\"520\">\n"
      ]
    },
    {
      "cell_type": "code",
      "metadata": {
        "id": "zwRdH-eDg6LS"
      },
      "source": [
        "tree3= TreeNode.parse_tuple((('aakash', 'biraj', 'hemanth'), 'jadhesh', ((None, 'siddhant', None), 'sonaksh',('tanya', 'vishal', None))))"
      ],
      "execution_count": 129,
      "outputs": []
    },
    {
      "cell_type": "code",
      "metadata": {
        "colab": {
          "base_uri": "https://localhost:8080/"
        },
        "id": "Lur-sJzhHb99",
        "outputId": "f8667a15-f636-40bf-a581-5fdefb26f42c"
      },
      "source": [
        "display_keys(tree3)"
      ],
      "execution_count": 130,
      "outputs": [
        {
          "output_type": "stream",
          "name": "stdout",
          "text": [
            "\t\t\t∅\n",
            "\t\tvishal\n",
            "\t\t\ttanya\n",
            "\tsonaksh\n",
            "\t\tsiddhant\n",
            "jadhesh\n",
            "\t\themanth\n",
            "\tbiraj\n",
            "\t\taakash\n"
          ]
        }
      ]
    },
    {
      "cell_type": "code",
      "metadata": {
        "colab": {
          "base_uri": "https://localhost:8080/"
        },
        "id": "q3bpLx3gHkGH",
        "outputId": "89d84ea0-ac11-400a-e169-8ddbdc51eb8c"
      },
      "source": [
        "is_balanced(tree3)"
      ],
      "execution_count": 131,
      "outputs": [
        {
          "output_type": "execute_result",
          "data": {
            "text/plain": [
              "(True, 4)"
            ]
          },
          "metadata": {},
          "execution_count": 131
        }
      ]
    },
    {
      "cell_type": "markdown",
      "metadata": {
        "id": "nh1k5KDbIv2F"
      },
      "source": [
        "# Balanced Binary Search Tree\n",
        "\n",
        "**Question 15**:Write a function to create a balanced BST from a stored list/array of key-value pairs.\n",
        "\n",
        "We use a recursive  strategy here, turning the middle element of the list into the root and recursively creating left and right subtrees."
      ]
    },
    {
      "cell_type": "code",
      "metadata": {
        "id": "3AjqZeA-IcyB"
      },
      "source": [
        "def make_balanced_bst(data, lo= 0, hi= None, parent= None):\n",
        "  if hi is None:\n",
        "    hi= len(data) -1\n",
        "  if lo > hi:\n",
        "    return None\n",
        "  mid= (lo + hi) // 2\n",
        "  key, value= data[mid]\n",
        "\n",
        "  root= BSTNode(key, value)\n",
        "  root.parent= parent\n",
        "  root.left= make_balanced_bst(data, lo, mid-1, root)\n",
        "  root.right= make_balanced_bst(data, mid+1, hi, root)\n",
        "\n",
        "  return root"
      ],
      "execution_count": 132,
      "outputs": []
    },
    {
      "cell_type": "code",
      "metadata": {
        "colab": {
          "base_uri": "https://localhost:8080/"
        },
        "id": "L4LJ8aWmNPbo",
        "outputId": "b125b7fe-bbbd-42c8-80ce-44646f233c82"
      },
      "source": [
        "data= [(user.username, user) for user in users]\n",
        "data"
      ],
      "execution_count": 133,
      "outputs": [
        {
          "output_type": "execute_result",
          "data": {
            "text/plain": [
              "[('aakash',\n",
              "  User(username='aakash', name='Aakash Rai', email='aakash@example.com')),\n",
              " ('biraj',\n",
              "  User(username='biraj', name='Biraj Das', email='biraj@example.com')),\n",
              " ('hemanth',\n",
              "  User(username='hemanth', name='Hemanth Jain', email='hemanth@example.com')),\n",
              " ('jadhesh',\n",
              "  User(username='jadhesh', name='Jadhesh Verma', email='jadhesh@example.com')),\n",
              " ('siddhant',\n",
              "  User(username='siddhant', name='Siddhant U', email='siddhantu@example.com')),\n",
              " ('sonaksh',\n",
              "  User(username='sonaksh', name='Sonaksh Kumar', email='sonaksh@example.com')),\n",
              " ('vishal',\n",
              "  User(username='vishal', name='Vishal Goel', email='vishal@example.com'))]"
            ]
          },
          "metadata": {},
          "execution_count": 133
        }
      ]
    },
    {
      "cell_type": "code",
      "metadata": {
        "id": "MF76HEw4NWrf"
      },
      "source": [
        "tree= make_balanced_bst(data)"
      ],
      "execution_count": 134,
      "outputs": []
    },
    {
      "cell_type": "code",
      "metadata": {
        "colab": {
          "base_uri": "https://localhost:8080/"
        },
        "id": "ROX70rG8Nef4",
        "outputId": "f2262def-f0f0-46c0-9ab9-43c5bb2fc6b0"
      },
      "source": [
        "display_keys(tree)"
      ],
      "execution_count": 135,
      "outputs": [
        {
          "output_type": "stream",
          "name": "stdout",
          "text": [
            "\t\tvishal\n",
            "\tsonaksh\n",
            "\t\tsiddhant\n",
            "jadhesh\n",
            "\t\themanth\n",
            "\tbiraj\n",
            "\t\taakash\n"
          ]
        }
      ]
    },
    {
      "cell_type": "code",
      "metadata": {
        "id": "gmbYPUWXNiv-"
      },
      "source": [
        "\n",
        "tree3= None\n",
        "for username, user in data:\n",
        "  tree3= insert(tree3, username, user)"
      ],
      "execution_count": 136,
      "outputs": []
    },
    {
      "cell_type": "markdown",
      "metadata": {
        "id": "uIE-Y-ZON8Ya"
      },
      "source": [
        "# Balancing an Unbalanced BST\n",
        "\n",
        "Question16: Write a function to balance an unbalanced binary search tree\n",
        "\n",
        "We first perform an inorder traversal, then create a balanced BST using the function defined earlier."
      ]
    },
    {
      "cell_type": "code",
      "metadata": {
        "id": "L9krC-61N00l"
      },
      "source": [
        "def balance_bst(node):\n",
        "  return make_balanced_bst(list_all(node))"
      ],
      "execution_count": 137,
      "outputs": []
    },
    {
      "cell_type": "code",
      "metadata": {
        "id": "LCwQQlXDvylu"
      },
      "source": [
        "tree1= None\n",
        "for user in users:\n",
        "  tree1= insert(tree1, user.username, user)"
      ],
      "execution_count": 138,
      "outputs": []
    },
    {
      "cell_type": "code",
      "metadata": {
        "colab": {
          "base_uri": "https://localhost:8080/"
        },
        "id": "qe0a1aw7wAt2",
        "outputId": "6d3b291e-8a00-4eb9-9db0-fa1aa59a3f36"
      },
      "source": [
        "display_keys(tree1)"
      ],
      "execution_count": 139,
      "outputs": [
        {
          "output_type": "stream",
          "name": "stdout",
          "text": [
            "\t\t\t\t\t\tvishal\n",
            "\t\t\t\t\tsonaksh\n",
            "\t\t\t\t\t\t∅\n",
            "\t\t\t\tsiddhant\n",
            "\t\t\t\t\t∅\n",
            "\t\t\tjadhesh\n",
            "\t\t\t\t∅\n",
            "\t\themanth\n",
            "\t\t\t∅\n",
            "\tbiraj\n",
            "\t\t∅\n",
            "aakash\n",
            "\t∅\n"
          ]
        }
      ]
    },
    {
      "cell_type": "code",
      "metadata": {
        "id": "9RX0U8spyw46"
      },
      "source": [
        "tree2= balance_bst(tree1)"
      ],
      "execution_count": 140,
      "outputs": []
    },
    {
      "cell_type": "code",
      "metadata": {
        "colab": {
          "base_uri": "https://localhost:8080/"
        },
        "id": "zJgRuCfFy1tL",
        "outputId": "4d11e267-ad28-46f5-e744-5394d15940d3"
      },
      "source": [
        "display_keys(tree2)"
      ],
      "execution_count": 141,
      "outputs": [
        {
          "output_type": "stream",
          "name": "stdout",
          "text": [
            "\t\tvishal\n",
            "\tsonaksh\n",
            "\t\tsiddhant\n",
            "jadhesh\n",
            "\t\themanth\n",
            "\tbiraj\n",
            "\t\taakash\n"
          ]
        }
      ]
    },
    {
      "cell_type": "markdown",
      "metadata": {
        "id": "gUhfDSFEzSTk"
      },
      "source": [
        "After every insertion, we can balance the tree. This way the tree will remain balanced.\n",
        "\n",
        "Complexity of the various operations in a balanced BST:\n",
        "\n",
        "* Insert - O(log N) + O(N) = O(N)\n",
        "* Find - O(log N)\n",
        "* Update - O(log N)\n",
        "* List all - O(N)\n",
        "\n",
        "What's the real improvement between O(N) and O(log N)? "
      ]
    },
    {
      "cell_type": "code",
      "metadata": {
        "colab": {
          "base_uri": "https://localhost:8080/"
        },
        "id": "iB_cas1Py3k2",
        "outputId": "b5902e2a-7915-40e0-d173-9f0efbf31471"
      },
      "source": [
        "import math\n",
        "math.log(100000000, 2)"
      ],
      "execution_count": 142,
      "outputs": [
        {
          "output_type": "execute_result",
          "data": {
            "text/plain": [
              "26.5754247590989"
            ]
          },
          "metadata": {},
          "execution_count": 142
        }
      ]
    },
    {
      "cell_type": "markdown",
      "metadata": {
        "id": "9YNlerFI0D3n"
      },
      "source": [
        "The logarithm (base 2) of 100 million is around 26. Thus, it takes only 26 operations to find or update a node within a BST (as opposed to 100 million)."
      ]
    },
    {
      "cell_type": "code",
      "metadata": {
        "colab": {
          "base_uri": "https://localhost:8080/"
        },
        "id": "Kfj2_j8LzNcG",
        "outputId": "c00c5ae8-4ed6-4bd6-eec7-0010ece5ca8b"
      },
      "source": [
        "%%time\n",
        "for i in range(26):\n",
        "  j= i*i"
      ],
      "execution_count": 143,
      "outputs": [
        {
          "output_type": "stream",
          "name": "stdout",
          "text": [
            "CPU times: user 12 µs, sys: 0 ns, total: 12 µs\n",
            "Wall time: 17.2 µs\n"
          ]
        }
      ]
    },
    {
      "cell_type": "code",
      "metadata": {
        "colab": {
          "base_uri": "https://localhost:8080/"
        },
        "id": "cm41zfNi0LSy",
        "outputId": "59e93a8b-6c5e-4eac-8380-496acece4491"
      },
      "source": [
        "#Let's compare this to linear time\n",
        "\n",
        "%%time\n",
        "for i in range(100000000):\n",
        "  j= i*i\n",
        "\n",
        "#Thus, find and update from a balanced binary search tree is 300,000 times faster than our original solution. \n",
        "#To speed up insertions, we may choose to perform the balancing periodically(e.g once every 100 insertions). \n",
        "#This way, most insertions will be 0(logN), but every 1000th insertion will take a few seconds. \n",
        "#Another options is rebalance the tree periodically at the end of every hour."
      ],
      "execution_count": 144,
      "outputs": [
        {
          "output_type": "stream",
          "name": "stdout",
          "text": [
            "CPU times: user 14.6 s, sys: 61.7 ms, total: 14.7 s\n",
            "Wall time: 15.2 s\n"
          ]
        }
      ]
    },
    {
      "cell_type": "markdown",
      "metadata": {
        "id": "tTbDSEgl1UxL"
      },
      "source": [
        "# A Python Friendly Treemap\n",
        "Let's return to our original problem statement.\n",
        "\n",
        "Question 1: As a senior backend engineer at Jovian, you are tasked at developing a fast in-memory data structure to manage profile information(username, name, and email) for 100 million users. It should allow the following operations to be performed efficiently.\n",
        "\n",
        "1. Insert: the profile information for a new user.\n",
        "2. Find: the profile information of a user, given their username.\n",
        "3. Update: the profile information of a user, given their username.\n",
        "4. List all the users of the platform, sorted by username.\n",
        "\n",
        "You can assume that usernames are unique. \n",
        "Let's create a generic class TreeMap which supports all the operations specified in the original problem statement in a python friendly manner."
      ]
    },
    {
      "cell_type": "code",
      "metadata": {
        "id": "lEAarGe50Vpq"
      },
      "source": [
        "class TreeMap():\n",
        "    def __init__(self):\n",
        "        self.root = None\n",
        "        \n",
        "    def __setitem__(self, key, value):\n",
        "        node = find(self.root, key)\n",
        "        if not node:\n",
        "            self.root = insert(self.root, key, value)\n",
        "            self.root = balance_bst(self.root)\n",
        "        else:\n",
        "            update(self.root, key, value)\n",
        "            \n",
        "        \n",
        "    def __getitem__(self, key):\n",
        "        node = find(self.root, key)\n",
        "        return node.value if node else None\n",
        "    \n",
        "    def __iter__(self):\n",
        "        return (x for x in list_all(self.root))\n",
        "    \n",
        "    def __len__(self):\n",
        "        return tree_size(self.root)\n",
        "    \n",
        "    def display(self):\n",
        "        return display_keys(self.root)"
      ],
      "execution_count": 145,
      "outputs": []
    },
    {
      "cell_type": "markdown",
      "metadata": {
        "id": "4VZ4nATD5edP"
      },
      "source": [
        "**Exercise**: What is the time complexity of `__len__`? Can you reduce it to **O(1)**. Hint: Modify the `BSTNode` class.\n",
        "\n",
        "Let's try using the `TreeMap` class below."
      ]
    },
    {
      "cell_type": "code",
      "metadata": {
        "colab": {
          "base_uri": "https://localhost:8080/"
        },
        "id": "Z7d8TnSM5H_c",
        "outputId": "703464f6-73db-4040-ae76-635cbd0eab66"
      },
      "source": [
        "users"
      ],
      "execution_count": 146,
      "outputs": [
        {
          "output_type": "execute_result",
          "data": {
            "text/plain": [
              "[User(username='aakash', name='Aakash Rai', email='aakash@example.com'),\n",
              " User(username='biraj', name='Biraj Das', email='biraj@example.com'),\n",
              " User(username='hemanth', name='Hemanth Jain', email='hemanth@example.com'),\n",
              " User(username='jadhesh', name='Jadhesh Verma', email='jadhesh@example.com'),\n",
              " User(username='siddhant', name='Siddhant U', email='siddhantu@example.com'),\n",
              " User(username='sonaksh', name='Sonaksh Kumar', email='sonaksh@example.com'),\n",
              " User(username='vishal', name='Vishal Goel', email='vishal@example.com')]"
            ]
          },
          "metadata": {},
          "execution_count": 146
        }
      ]
    },
    {
      "cell_type": "code",
      "metadata": {
        "id": "nX42CuIs5hJr"
      },
      "source": [
        "treemap= TreeMap()"
      ],
      "execution_count": 147,
      "outputs": []
    },
    {
      "cell_type": "code",
      "metadata": {
        "colab": {
          "base_uri": "https://localhost:8080/"
        },
        "id": "xLudhKmU5luu",
        "outputId": "bdae9c4a-0c21-403b-d1e1-4fa6c4c7d712"
      },
      "source": [
        "treemap.display()"
      ],
      "execution_count": 148,
      "outputs": [
        {
          "output_type": "stream",
          "name": "stdout",
          "text": [
            "∅\n"
          ]
        }
      ]
    },
    {
      "cell_type": "code",
      "metadata": {
        "id": "zZM2W6Of5oII"
      },
      "source": [
        "treemap['aakash'] = aakash\n",
        "treemap['jadhesh']= jadhesh\n",
        "treemap['sonaksh']= sonaksh"
      ],
      "execution_count": 149,
      "outputs": []
    },
    {
      "cell_type": "code",
      "metadata": {
        "colab": {
          "base_uri": "https://localhost:8080/"
        },
        "id": "rwvtueOY5_HL",
        "outputId": "1f2530ba-33b9-47bc-d2b2-79c3b5c44fe5"
      },
      "source": [
        "treemap.display()"
      ],
      "execution_count": 150,
      "outputs": [
        {
          "output_type": "stream",
          "name": "stdout",
          "text": [
            "\tsonaksh\n",
            "jadhesh\n",
            "\taakash\n"
          ]
        }
      ]
    },
    {
      "cell_type": "code",
      "metadata": {
        "colab": {
          "base_uri": "https://localhost:8080/"
        },
        "id": "zsgu13dD60lv",
        "outputId": "a45d2fc9-2981-45fd-de2b-fc73e84eafb4"
      },
      "source": [
        "treemap['jadhesh']"
      ],
      "execution_count": 151,
      "outputs": [
        {
          "output_type": "execute_result",
          "data": {
            "text/plain": [
              "User(username='jadhesh', name='Jadhesh Verma', email='jadhesh@example.com')"
            ]
          },
          "metadata": {},
          "execution_count": 151
        }
      ]
    },
    {
      "cell_type": "code",
      "metadata": {
        "colab": {
          "base_uri": "https://localhost:8080/"
        },
        "id": "XueumTxL63cu",
        "outputId": "57ad398a-b7fa-46c8-c21c-5707cb180087"
      },
      "source": [
        "len(treemap)"
      ],
      "execution_count": 152,
      "outputs": [
        {
          "output_type": "execute_result",
          "data": {
            "text/plain": [
              "3"
            ]
          },
          "metadata": {},
          "execution_count": 152
        }
      ]
    },
    {
      "cell_type": "code",
      "metadata": {
        "id": "NMO6I9Gy66Jx"
      },
      "source": [
        "treemap['biraj'] = biraj\n",
        "treemap['hemanth'] = hemanth\n",
        "treemap['siddhant'] = siddhant\n",
        "treemap['vishal'] = vishal"
      ],
      "execution_count": 153,
      "outputs": []
    },
    {
      "cell_type": "code",
      "metadata": {
        "colab": {
          "base_uri": "https://localhost:8080/"
        },
        "id": "vRe9Z0ne68mR",
        "outputId": "a2fa1a2a-f1dc-4e95-dd4d-83f4f0f1abc5"
      },
      "source": [
        "treemap.display()"
      ],
      "execution_count": 154,
      "outputs": [
        {
          "output_type": "stream",
          "name": "stdout",
          "text": [
            "\t\tvishal\n",
            "\tsonaksh\n",
            "\t\tsiddhant\n",
            "jadhesh\n",
            "\t\themanth\n",
            "\tbiraj\n",
            "\t\taakash\n"
          ]
        }
      ]
    },
    {
      "cell_type": "code",
      "metadata": {
        "colab": {
          "base_uri": "https://localhost:8080/"
        },
        "id": "9u9yU_gq6-_1",
        "outputId": "63dffd30-65f9-4577-db47-23c7c35dbcc1"
      },
      "source": [
        "for one, two in treemap:\n",
        "  print(one, two)"
      ],
      "execution_count": 155,
      "outputs": [
        {
          "output_type": "stream",
          "name": "stdout",
          "text": [
            "aakash User(username='aakash', name='Aakash Rai', email='aakash@example.com')\n",
            "biraj User(username='biraj', name='Biraj Das', email='biraj@example.com')\n",
            "hemanth User(username='hemanth', name='Hemanth Jain', email='hemanth@example.com')\n",
            "jadhesh User(username='jadhesh', name='Jadhesh Verma', email='jadhesh@example.com')\n",
            "siddhant User(username='siddhant', name='Siddhant U', email='siddhantu@example.com')\n",
            "sonaksh User(username='sonaksh', name='Sonaksh Kumar', email='sonaksh@example.com')\n",
            "vishal User(username='vishal', name='Vishal Goel', email='vishal@example.com')\n"
          ]
        }
      ]
    },
    {
      "cell_type": "code",
      "metadata": {
        "colab": {
          "base_uri": "https://localhost:8080/"
        },
        "id": "GUNjriXD7Int",
        "outputId": "7716d8c6-e641-421a-c3e7-387227efbcef"
      },
      "source": [
        "list(treemap)"
      ],
      "execution_count": 156,
      "outputs": [
        {
          "output_type": "execute_result",
          "data": {
            "text/plain": [
              "[('aakash',\n",
              "  User(username='aakash', name='Aakash Rai', email='aakash@example.com')),\n",
              " ('biraj',\n",
              "  User(username='biraj', name='Biraj Das', email='biraj@example.com')),\n",
              " ('hemanth',\n",
              "  User(username='hemanth', name='Hemanth Jain', email='hemanth@example.com')),\n",
              " ('jadhesh',\n",
              "  User(username='jadhesh', name='Jadhesh Verma', email='jadhesh@example.com')),\n",
              " ('siddhant',\n",
              "  User(username='siddhant', name='Siddhant U', email='siddhantu@example.com')),\n",
              " ('sonaksh',\n",
              "  User(username='sonaksh', name='Sonaksh Kumar', email='sonaksh@example.com')),\n",
              " ('vishal',\n",
              "  User(username='vishal', name='Vishal Goel', email='vishal@example.com'))]"
            ]
          },
          "metadata": {},
          "execution_count": 156
        }
      ]
    },
    {
      "cell_type": "code",
      "metadata": {
        "id": "yjK-MwGw7MW_"
      },
      "source": [
        "treemap['aakash'] = User(username='aakash', name='Aakash N S', email='aakashns@example.com')"
      ],
      "execution_count": 157,
      "outputs": []
    },
    {
      "cell_type": "code",
      "metadata": {
        "colab": {
          "base_uri": "https://localhost:8080/"
        },
        "id": "9CA09T6l7W1D",
        "outputId": "7a954412-6b98-4fe3-8eb6-6df42c098bf1"
      },
      "source": [
        "treemap['aakash']"
      ],
      "execution_count": 158,
      "outputs": [
        {
          "output_type": "execute_result",
          "data": {
            "text/plain": [
              "User(username='aakash', name='Aakash N S', email='aakashns@example.com')"
            ]
          },
          "metadata": {},
          "execution_count": 158
        }
      ]
    },
    {
      "cell_type": "markdown",
      "metadata": {
        "id": "a3y9R4a37c9_"
      },
      "source": [
        "## Self-Balancing Binary Trees and AVL Trees\n",
        "\n",
        "A *self-balancing binary tree* remains balanced after every insertion or deletion. Several decades of research has gone into creating self-balancing binary trees, and many approaches have been devised e.g. B-trees, Red Black Trees and  AVL (Adelson-Velsky Landis) trees.\n",
        "\n",
        "We'll take a brief look at AVL trees. Self-balancing in AVL trees is achieved by tracking the *balance factor* (difference between the height of the left subtree and the right subtree) for each node and *rotating* unbalanced subtrees along the path of insertion/deletion to balance them.\n",
        "\n",
        "![](https://upload.wikimedia.org/wikipedia/commons/f/fd/AVL_Tree_Example.gif)\n",
        "\n",
        "In a balanced BST, the balance factor of each node is either 0, -1, or 1. When we perform an insertion, then the balance factor of certain nodes along the path of insertion may change to 2 or -2. Those nodes can be \"rotated\" one-by-one to bring the balance factor back to 1, 0 or -1. \n",
        "\n",
        "There are 4 different scenarios for balancing, two of which require a single rotation, while the others require 2 rotations:\n",
        "\n",
        "\n",
        "![](https://s3.amazonaws.com/hr-challenge-images/0/1436854305-b167cc766c-AVL_Tree_Rebalancing.svg.png)\n",
        "\n",
        "Source: [HackerRank](https://www.hackerrank.com/challenges/self-balancing-tree/problem)\n",
        "\n",
        "Since each rotation takes constant time, and at most `log N` rotations may be required, this operation is far more efficient than creating a balanced binary tree from scratch, allowing insertion and deletion to be performed in `O (log N)` time. Here are some references for AVL Trees:\n",
        "\n",
        "* Explanation of the various cases: https://youtu.be/jDM6_TnYIqE?t=482\n",
        "* Implementation: https://www.geeksforgeeks.org/avl-tree-set-1-insertion/"
      ]
    },
    {
      "cell_type": "code",
      "metadata": {
        "id": "vTeBTF_K7Y21"
      },
      "source": [
        ""
      ],
      "execution_count": 158,
      "outputs": []
    }
  ]
}