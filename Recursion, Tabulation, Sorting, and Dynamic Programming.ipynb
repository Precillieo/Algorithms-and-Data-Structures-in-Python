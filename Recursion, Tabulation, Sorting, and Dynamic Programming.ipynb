{
  "nbformat": 4,
  "nbformat_minor": 0,
  "metadata": {
    "colab": {
      "name": "Recursion, Tabulation, Sorting and Dynamic Programming.ipynb",
      "provenance": [],
      "collapsed_sections": [],
      "authorship_tag": "ABX9TyNUJKWzO5hYCIwpHqyO4hwB",
      "include_colab_link": true
    },
    "kernelspec": {
      "name": "python3",
      "display_name": "Python 3"
    },
    "language_info": {
      "name": "python"
    }
  },
  "cells": [
    {
      "cell_type": "markdown",
      "metadata": {
        "id": "view-in-github",
        "colab_type": "text"
      },
      "source": [
        "<a href=\"https://colab.research.google.com/github/Precillieo/Algorithms-and-Data-Structures-in-Python/blob/main/Recursion%2C%20Tabulation%2C%20Sorting%2C%20and%20Dynamic%20Programming.ipynb\" target=\"_parent\"><img src=\"https://colab.research.google.com/assets/colab-badge.svg\" alt=\"Open In Colab\"/></a>"
      ]
    },
    {
      "cell_type": "markdown",
      "source": [
        "# Recursive Solutions"
      ],
      "metadata": {
        "id": "TnAWj0_ymKLI"
      }
    },
    {
      "cell_type": "markdown",
      "source": [
        "### Fibonacci Sequence\n",
        "\n",
        "**Problem Statement**: Function that takes in a number as an argument. The function returns the n-th number of the fibonacci sequence."
      ],
      "metadata": {
        "id": "Bu7kq-smfusr"
      }
    },
    {
      "cell_type": "code",
      "execution_count": 1,
      "metadata": {
        "id": "9vPOW6TUSpHj",
        "colab": {
          "base_uri": "https://localhost:8080/"
        },
        "outputId": "797cd073-d1ba-457b-f056-89f1f72e1f68"
      },
      "outputs": [
        {
          "output_type": "stream",
          "name": "stdout",
          "text": [
            "8\n",
            "13\n",
            "21\n"
          ]
        }
      ],
      "source": [
        "#Exponential Fib Solution. Time complexity= 0(2~n), Space Complexity= 0(n)\n",
        "def fib(n):\n",
        "  if n <= 2:\n",
        "    return 1\n",
        "  return fib(n-1) + fib(n-2)\n",
        "\n",
        "print(fib(6))\n",
        "print(fib(7))\n",
        "print(fib(8))"
      ]
    },
    {
      "cell_type": "code",
      "source": [
        "#Linear Fib Solution. Time Complexity= 0(2n), Space Complexity= 0(n)\n",
        "\n",
        "def fib(n, memo= {}):\n",
        "  if n in memo:\n",
        "    return memo[n]\n",
        "  if n <= 2:\n",
        "    return 1\n",
        "  memo[n]= fib(n-1, memo) + fib(n-2, memo)\n",
        "  return memo[n]\n",
        "\n",
        "print(fib(7))\n",
        "print(fib(40))\n",
        "print(fib(100))"
      ],
      "metadata": {
        "colab": {
          "base_uri": "https://localhost:8080/"
        },
        "id": "S8X8rxY0gPf9",
        "outputId": "d59cf408-22ee-4dd9-ef94-337e06d703c0"
      },
      "execution_count": 2,
      "outputs": [
        {
          "output_type": "stream",
          "name": "stdout",
          "text": [
            "13\n",
            "102334155\n",
            "354224848179261915075\n"
          ]
        }
      ]
    },
    {
      "cell_type": "markdown",
      "source": [
        "## Grid Traveler Memoization\n",
        "\n",
        "**Problem Statement**: Say that you are a traveler on a 2D Grid. You begin in the top left corner and your goal is to travel to the bottom right corner. You many only move down or right. \n",
        "In how many ways can you travel to the goal on a grid with dimension m * n?. Write a function ```gridTraveler(m, n)``` that calculates this."
      ],
      "metadata": {
        "id": "9X5tcu-fxeCC"
      }
    },
    {
      "cell_type": "code",
      "source": [
        "def gridTraveler(m,n):\n",
        "  if m==1 and n == 1:\n",
        "    return 1\n",
        "  if m==0 or n==0:\n",
        "    return 0\n",
        "  return gridTraveler(m-1, n) + gridTraveler(m, n-1)\n",
        "\n",
        "print(gridTraveler(1, 1))\n",
        "print(gridTraveler(2, 3))\n",
        "print(gridTraveler(3, 2))\n",
        "print(gridTraveler(3, 3))\n",
        "print(gridTraveler(4, 3))"
      ],
      "metadata": {
        "id": "PuoZ6AxGyjEa",
        "colab": {
          "base_uri": "https://localhost:8080/"
        },
        "outputId": "9522f087-f7ae-4f86-947c-daf5711a4bb6"
      },
      "execution_count": 3,
      "outputs": [
        {
          "output_type": "stream",
          "name": "stdout",
          "text": [
            "1\n",
            "3\n",
            "3\n",
            "6\n",
            "10\n"
          ]
        }
      ]
    },
    {
      "cell_type": "code",
      "source": [
        "#The Memoized Function\n",
        "def gridTraveler(m,n, memo= {}):\n",
        "  key= str(m) + ',' + str(n)\n",
        "  if key in memo:\n",
        "    return memo[key]\n",
        "  if m==1 and n == 1:\n",
        "    return 1\n",
        "  if m==0 or n==0:\n",
        "    return 0\n",
        "  memo[key] = gridTraveler(m-1, n, memo) + gridTraveler(m, n-1, memo)\n",
        "  return memo[key]\n",
        "\n",
        "print(gridTraveler(2,3))\n",
        "print(gridTraveler(18,18))"
      ],
      "metadata": {
        "colab": {
          "base_uri": "https://localhost:8080/"
        },
        "id": "qVFXg7Cx2o8S",
        "outputId": "c2a1616f-7449-4603-8853-af0c6ad5cdce"
      },
      "execution_count": 4,
      "outputs": [
        {
          "output_type": "stream",
          "name": "stdout",
          "text": [
            "3\n",
            "2333606220\n"
          ]
        }
      ]
    },
    {
      "cell_type": "markdown",
      "source": [
        "## CanSum\n",
        "\n",
        "**Problem Statement**: Write a function ```cansum(targetsum, numbers)``` that takes in targetsum and an array of numbers as arguments. The function should return a boolean indicating whether or not it is possible to generate the targetsum using numbers from the array. \n",
        "You may use an element in the array as many times as needed. You may assume that all input numbers are nonnegative. "
      ],
      "metadata": {
        "id": "mGzCN0lVHXz5"
      }
    },
    {
      "cell_type": "code",
      "source": [
        "def cansum(targetsum, numbers):\n",
        "  if targetsum == 0:\n",
        "    return True\n",
        "  if targetsum < 0:\n",
        "    return False\n",
        "  for i in numbers:\n",
        "    remainder= targetsum - i\n",
        "    if (cansum(remainder, numbers) == True):\n",
        "      return True\n",
        "  return False\n",
        "\n",
        "print(cansum(7, [2,3]))\n",
        "print(cansum(7, [5, 3, 4, 7]))\n",
        "print(cansum(7, [2,4]))\n",
        "print(cansum(8, [2,3,5]))\n",
        "#print(cansum(300, [7, 14]))"
      ],
      "metadata": {
        "colab": {
          "base_uri": "https://localhost:8080/"
        },
        "id": "dtUvlKk474E0",
        "outputId": "0d6eea23-adb9-4d30-cbea-831888446de0"
      },
      "execution_count": 5,
      "outputs": [
        {
          "output_type": "stream",
          "name": "stdout",
          "text": [
            "True\n",
            "True\n",
            "False\n",
            "True\n"
          ]
        }
      ]
    },
    {
      "cell_type": "code",
      "source": [
        "#The Memoized Function\n",
        "def cansum(targetsum, numbers, memo= {}):\n",
        "  if targetsum in memo:\n",
        "    return memo[targetsum]\n",
        "  if targetsum == 0:\n",
        "    return True\n",
        "  if targetsum < 0:\n",
        "    return False\n",
        "\n",
        "  for i in numbers:\n",
        "    remainder= targetsum - i\n",
        "    if (cansum(remainder, numbers, memo) == True):\n",
        "      memo[targetsum] = True\n",
        "      return True\n",
        "  memo[targetsum] = False\n",
        "  return False\n",
        "\n",
        "print(cansum(300, [7, 14]))\n",
        "print(cansum(7, [2,3]))"
      ],
      "metadata": {
        "id": "anzk3C-qMK8d",
        "colab": {
          "base_uri": "https://localhost:8080/"
        },
        "outputId": "2c536e5e-9145-4f9f-c025-4ffa2e9c6d0b"
      },
      "execution_count": 6,
      "outputs": [
        {
          "output_type": "stream",
          "name": "stdout",
          "text": [
            "False\n",
            "True\n"
          ]
        }
      ]
    },
    {
      "cell_type": "code",
      "source": [
        "print(cansum(7, [2,4]))\n",
        "print(cansum(7, [5, 3, 4, 7]))\n",
        "print(cansum(8, [2,3,5]))"
      ],
      "metadata": {
        "colab": {
          "base_uri": "https://localhost:8080/"
        },
        "id": "Mt2Kn40m4YYd",
        "outputId": "8e13e06f-b266-4e7c-9877-a12704637caf"
      },
      "execution_count": 7,
      "outputs": [
        {
          "output_type": "stream",
          "name": "stdout",
          "text": [
            "True\n",
            "True\n",
            "True\n"
          ]
        }
      ]
    },
    {
      "cell_type": "markdown",
      "source": [
        "## How Sum\n",
        "\n",
        "**Problem Statement**: Write a function ```howsum(targetsum, numbers)``` that takes in a targetsum an an array of numbers as arguments.\n",
        "\n",
        "The funstion should return an array containing any combination of elements that add up to exactly the targetsum. If there is no combination that adds up to the targetsum, then return null.\n",
        "\n",
        "If there are multiple combinations possible, you may return any single one."
      ],
      "metadata": {
        "id": "ueo4UEcbWZpt"
      }
    },
    {
      "cell_type": "code",
      "source": [
        "def howsum(targetsum, numbers):\n",
        "  if targetsum == 0:\n",
        "    return []\n",
        "  if targetsum < 0:\n",
        "    return None\n",
        "  \n",
        "  for num in numbers:\n",
        "    remainder= targetsum - num\n",
        "    remainder_res= howsum(remainder, numbers)\n",
        "    if remainder_res != None:\n",
        "      return remainder_res[:] + [num]\n",
        "  return None\n",
        "\n",
        "print(howsum(7, [2,3]))\n",
        "print(howsum(7, [5, 3, 4, 7]))\n",
        "print(howsum(7, [2,4]))\n",
        "print(howsum(8, [2,3,5]))\n"
      ],
      "metadata": {
        "id": "pWHwVKugb_Fp",
        "colab": {
          "base_uri": "https://localhost:8080/"
        },
        "outputId": "b0c15268-af3b-4328-9540-1891e8cc6749"
      },
      "execution_count": 8,
      "outputs": [
        {
          "output_type": "stream",
          "name": "stdout",
          "text": [
            "[3, 2, 2]\n",
            "[4, 3]\n",
            "None\n",
            "[2, 2, 2, 2]\n"
          ]
        }
      ]
    },
    {
      "cell_type": "code",
      "source": [
        "#Memoized version\n",
        "\n",
        "def howsum(targetsum, numbers, memo= {}):\n",
        "  if targetsum in memo:\n",
        "    return memo[targetsum]\n",
        "  if targetsum == 0:\n",
        "    return []\n",
        "  if targetsum < 0:\n",
        "    return None\n",
        "  \n",
        "  for num in numbers:\n",
        "    remainder= targetsum - num\n",
        "    remainder_res= howsum(remainder, numbers, memo)\n",
        "    if remainder_res != None:\n",
        "      memo[targetsum] = remainder_res[:] + [num]\n",
        "      return memo[targetsum]\n",
        "\n",
        "  memo[targetsum] = None\n",
        "  return None\n",
        "\n",
        "print(howsum(7, [2,3]))\n",
        "print(howsum(300, [7, 14]))"
      ],
      "metadata": {
        "colab": {
          "base_uri": "https://localhost:8080/"
        },
        "id": "-ohcrD5A0hm-",
        "outputId": "aed1ef48-ad7b-4002-d890-edf5e00d37fb"
      },
      "execution_count": 9,
      "outputs": [
        {
          "output_type": "stream",
          "name": "stdout",
          "text": [
            "[3, 2, 2]\n",
            "None\n"
          ]
        }
      ]
    },
    {
      "cell_type": "code",
      "source": [
        "print(howsum(7, [2,4]))\n",
        "print(howsum(7, [5, 3, 4, 7]))"
      ],
      "metadata": {
        "colab": {
          "base_uri": "https://localhost:8080/"
        },
        "id": "5X9O2uhN3pDg",
        "outputId": "bffbc346-d922-429c-febd-b0a4b1066de6"
      },
      "execution_count": 10,
      "outputs": [
        {
          "output_type": "stream",
          "name": "stdout",
          "text": [
            "[3, 2, 2]\n",
            "[3, 2, 2]\n"
          ]
        }
      ]
    },
    {
      "cell_type": "markdown",
      "source": [
        "## Best Sum\n",
        "\n",
        "**Problem Statement**: The function like the others above shoulf return an array containing the shortst combination of numbers that add up to exactly the targetsum. \n",
        "\n",
        "If there is a tie for the shortest combination, you may return any of the shortest. \n",
        "\n"
      ],
      "metadata": {
        "id": "p35pmXqb7WkI"
      }
    },
    {
      "cell_type": "code",
      "source": [
        "def bestsum(targetsum, numbers):\n",
        "  if (targetsum) == 0:\n",
        "    return []\n",
        "  if targetsum < 0:\n",
        "    return None\n",
        "\n",
        "  shortcombo= None\n",
        "\n",
        "  for num in numbers:\n",
        "    remainder= targetsum - num\n",
        "    remaindercombo= bestsum(remainder, numbers)\n",
        "    if remaindercombo != None:\n",
        "      combination = remaindercombo[:] + [num]\n",
        "      if shortcombo == None or len(combination) < len(shortcombo):\n",
        "        shortcombo = combination\n",
        "  \n",
        "  return shortcombo\n",
        "\n",
        "print(bestsum(7, [5, 3, 4, 7]))\n",
        "print(bestsum(8, [2,3, 5]))\n",
        "print(bestsum(8, [1, 4, 5]))\n",
        "#print(bestsum(100, [1, 2, 5, 25]))\n"
      ],
      "metadata": {
        "colab": {
          "base_uri": "https://localhost:8080/"
        },
        "id": "w1JEBqPNCrGO",
        "outputId": "fd152d91-9390-4706-c255-85ce4f17050b"
      },
      "execution_count": 11,
      "outputs": [
        {
          "output_type": "stream",
          "name": "stdout",
          "text": [
            "[7]\n",
            "[5, 3]\n",
            "[4, 4]\n"
          ]
        }
      ]
    },
    {
      "cell_type": "code",
      "source": [
        "#Memoized Version\n",
        "def bestsum(targetsum, numbers, memo= {}):\n",
        "  if targetsum in memo:\n",
        "    return memo[targetsum]\n",
        "  if (targetsum) == 0:\n",
        "    return []\n",
        "  if targetsum < 0:\n",
        "    return None\n",
        "\n",
        "  shortcombo= None\n",
        "\n",
        "  for num in numbers:\n",
        "    remainder= targetsum - num\n",
        "    remaindercombo= bestsum(remainder, numbers, memo)\n",
        "    if remaindercombo != None:\n",
        "      combination = remaindercombo[:] + [num]\n",
        "      if shortcombo == None or len(combination) < len(shortcombo):\n",
        "        shortcombo = combination\n",
        "  \n",
        "  memo[targetsum]= shortcombo\n",
        "  return shortcombo\n",
        "\n",
        "print(bestsum(7, [5, 3, 4, 7]))\n",
        "print(bestsum(8, [2,3, 5]))\n",
        "print(bestsum(9, [1, 4, 5]))\n",
        "print(bestsum(100, [1, 2, 5, 25]))"
      ],
      "metadata": {
        "colab": {
          "base_uri": "https://localhost:8080/"
        },
        "id": "DQ8cLS7uG8ya",
        "outputId": "a0909b13-8ec3-45a9-8b54-6a21c05659b0"
      },
      "execution_count": 12,
      "outputs": [
        {
          "output_type": "stream",
          "name": "stdout",
          "text": [
            "[7]\n",
            "[5, 3]\n",
            "[5, 4]\n",
            "[25, 25, 25, 25]\n"
          ]
        }
      ]
    },
    {
      "cell_type": "markdown",
      "source": [
        "##CanConstruct\n",
        "\n",
        "**Problm Statement**: Write a function ```canConstruct(target, wordbank)``` that accepts a target string and an array of strings. \n",
        "\n",
        "The function should return a boolean indicating whether or not the target can be constructured by concatenating elements of the wordBank array. \n",
        "\n",
        "You may reuse of elements of wordbank as many times as needed. "
      ],
      "metadata": {
        "id": "SzLzbwr8CZAg"
      }
    },
    {
      "cell_type": "code",
      "source": [
        "def canconstruct(target, wordbank):\n",
        "  if target == \"\":\n",
        "    return True\n",
        "  for word in wordbank:\n",
        "    if target.startswith(word):\n",
        "      suffix= target[len(word):]\n",
        "      if canconstruct(suffix, wordbank) == True:\n",
        "        return True\n",
        "  \n",
        "  return False\n",
        "print(canconstruct(\"abcdef\", [\"a\", \"abc\", \"cd\", \"def\", \"abcd\"]))\n",
        "print(canconstruct(\"skateboard\", [\"sk\", \"bo\", \"rd\", \"ate\", \"t\", \"ska\", \"boar\"]))\n",
        "print(canconstruct(\"enterapotemtpot\", [\"a\", \"p\", \"emt\", \"enter\", \"ot\", \"o\", \"t\"]))\n",
        "#print(canconstruct(\"eeeeeeeeeeeeeeeeeeeeeeeeeeeeeeeeeeeeeeeeeeeeeeeeeeeeef\", [\"e\", \"ee\", \"eee\", \"eeee\" ,\"eeeee\", \"eeeeee\"]))\n",
        "\n",
        "#Time Complexity= 0(n`m * m)\n",
        "#Space complexity = 0(m`2)"
      ],
      "metadata": {
        "id": "bmHieJUfNXAn",
        "colab": {
          "base_uri": "https://localhost:8080/"
        },
        "outputId": "841533d1-4feb-404e-e934-7b6afffd6fb0"
      },
      "execution_count": 13,
      "outputs": [
        {
          "output_type": "stream",
          "name": "stdout",
          "text": [
            "True\n",
            "False\n",
            "True\n"
          ]
        }
      ]
    },
    {
      "cell_type": "code",
      "source": [
        "#Memoized Version of canconstruct\n",
        "def canconstruct(target, wordbank, memo= {}):\n",
        "  if target in memo:\n",
        "    return memo[target]\n",
        "  if target == \"\":\n",
        "    return True\n",
        "\n",
        "  for word in wordbank:\n",
        "    if target.startswith(word):\n",
        "      suffix= target[len(word):]\n",
        "      if canconstruct(suffix, wordbank, memo) == True:\n",
        "        memo[target] = True\n",
        "        return True\n",
        "\n",
        "  memo[target]= False\n",
        "  return False\n",
        "print(canconstruct(\"abcdef\", [\"a\", \"abc\", \"cd\", \"def\", \"abcd\"]))\n",
        "print(canconstruct(\"skateboard\", [\"sk\", \"bo\", \"rd\", \"ate\", \"t\", \"ska\", \"boar\"]))\n",
        "print(canconstruct(\"enterapotemtpot\", [\"a\", \"p\", \"emt\", \"enter\", \"ot\", \"o\", \"t\"]))\n",
        "print(canconstruct(\"eeeeeeeeeeeeeeeeeeeeeeeeeeeeeeeeeeeeeeeeeeeeeeeeeeeeef\", [\"e\", \"ee\", \"eee\", \"eeee\" ,\"eeeee\", \"eeeeee\"]))\n",
        "\n",
        "#Memoized Tine Complexity= O(n * m2)\n",
        "#Space= O(m`2)\n",
        "#n= wordbank.length\n",
        "#m= target.length"
      ],
      "metadata": {
        "colab": {
          "base_uri": "https://localhost:8080/"
        },
        "id": "zy8RSuqaI0f0",
        "outputId": "04e2cc23-2b06-4d4b-a71d-263d53851cd4"
      },
      "execution_count": 14,
      "outputs": [
        {
          "output_type": "stream",
          "name": "stdout",
          "text": [
            "True\n",
            "False\n",
            "True\n",
            "False\n"
          ]
        }
      ]
    },
    {
      "cell_type": "markdown",
      "source": [
        "## Countconstruct\n",
        "\n",
        "**Problem Statement**: Write a function that accepts a target string and an array of strings.\n",
        "\n",
        "The function should return the number of ways the target can be constructed by concatenating elements of the wordbank array.\n",
        "\n",
        "You may reuse element of the wordbank as many times as possible."
      ],
      "metadata": {
        "id": "nNjEJk_EWVQ_"
      }
    },
    {
      "cell_type": "code",
      "source": [
        "def countconstruct(target, wordbank):\n",
        "  if target == \"\":\n",
        "    return 1\n",
        "  totalcount= 0\n",
        "  for word in wordbank:\n",
        "    if target.startswith(word):\n",
        "      numways= countconstruct(target[len(word):], wordbank)\n",
        "      totalcount += numways\n",
        "  return totalcount\n",
        "\n",
        "print(countconstruct(\"purple\", [\"purp\", \"p\", \"ur\", \"le\", \"purpl\"]))\n",
        "print(countconstruct(\"abcdef\", [\"a\", \"abc\", \"cd\", \"def\", \"abcd\"]))\n",
        "print(countconstruct(\"skateboard\", [\"sk\", \"bo\", \"rd\", \"ate\", \"t\", \"ska\", \"boar\"]))\n",
        "print(countconstruct(\"enterapotemtpot\", [\"a\", \"p\", \"emt\", \"enter\", \"ot\", \"o\", \"t\"]))\n",
        "#print(countconstruct(\"eeeeeeeeeeeeeeeeeeeeeeeeeeeeeeeeeeeeeeeeeeeeeeeeeeeeef\", [\"e\", \"ee\", \"eee\", \"eeee\" ,\"eeeee\", \"eeeeee\"]))"
      ],
      "metadata": {
        "colab": {
          "base_uri": "https://localhost:8080/"
        },
        "id": "axMBiBhwU47F",
        "outputId": "ae420336-13bb-4cf4-b81c-2b81c39fca5d"
      },
      "execution_count": 15,
      "outputs": [
        {
          "output_type": "stream",
          "name": "stdout",
          "text": [
            "2\n",
            "1\n",
            "0\n",
            "4\n"
          ]
        }
      ]
    },
    {
      "cell_type": "code",
      "source": [
        "#Memoized Version\n",
        "def countconstruct(target, wordbank, memo= {}):\n",
        "  if target in memo:\n",
        "    return memo[target]\n",
        "  if target == \"\":\n",
        "    return 1\n",
        "  totalcount= 0\n",
        "  for word in wordbank:\n",
        "    if target.startswith(word):\n",
        "      numways= countconstruct(target[len(word):], wordbank, memo)\n",
        "      totalcount += numways\n",
        "  memo[target]= totalcount\n",
        "  return totalcount\n",
        "\n",
        "print(countconstruct(\"purple\", [\"purp\", \"p\", \"ur\", \"le\", \"purpl\"]))\n",
        "print(countconstruct(\"abcdef\", [\"a\", \"abc\", \"cd\", \"def\", \"abcd\"]))\n",
        "print(countconstruct(\"skateboard\", [\"sk\", \"bo\", \"rd\", \"ate\", \"t\", \"ska\", \"boar\"]))\n",
        "print(countconstruct(\"enterapotemtpot\", [\"a\", \"p\", \"emt\", \"enter\", \"ot\", \"o\", \"t\"]))\n",
        "print(countconstruct(\"eeeeeeeeeeeeeeeeeeeeeeeeeeeeeeeeeeeeeeeeeeeeeeeeeeeeef\", [\"e\", \"ee\", \"eee\", \"eeee\" ,\"eeeee\", \"eeeeee\"]))"
      ],
      "metadata": {
        "colab": {
          "base_uri": "https://localhost:8080/"
        },
        "id": "PEQ63rvec8kF",
        "outputId": "a48d87b4-ad2d-4307-c598-d3af358ce506"
      },
      "execution_count": 16,
      "outputs": [
        {
          "output_type": "stream",
          "name": "stdout",
          "text": [
            "2\n",
            "1\n",
            "0\n",
            "4\n",
            "0\n"
          ]
        }
      ]
    },
    {
      "cell_type": "markdown",
      "source": [
        "## AllConstruct\n",
        "\n",
        "**Problem Statement**: Write a function that accepts a target string and an array of strings.\n",
        "\n",
        "The function should return a 2d array containing all the ways that the target can be constructed by concatenating elements of the wordbank array. Each element of the 2d array should represent one combination that constructs the target. \n",
        "\n",
        "You may reuse elements of wordbank as many times as possible. "
      ],
      "metadata": {
        "id": "N2HUYxDDew5E"
      }
    },
    {
      "cell_type": "code",
      "source": [
        "def allconstruct(target, wordbank):\n",
        "  if target == \"\":\n",
        "    return [[]]\n",
        "\n",
        "  result = []\n",
        "  for word in wordbank:\n",
        "    if target.startswith(word):\n",
        "      suffix= target[len(word):]\n",
        "      suffix_ways= allconstruct(suffix, wordbank)\n",
        "      #target_ways= suffix_ways.map(lambda x: [word, x[:]])\n",
        "      target_ways= map(word, suffix_ways[:])\n",
        "      result.append(target_ways)\n",
        "\n",
        "  return result\n",
        "\n",
        "print(allconstruct(\"purple\", [\"purp\", \"p\", \"ur\", \"le\", \"purpl\"]))\n",
        "print(allconstruct(\"abcdef\", [\"ab\", \"abc\", \"cd\", \"def\", \"abcd\", \"ef\", \"c\"]))\n",
        "print(allconstruct(\"skateboard\", [\"sk\", \"bo\", \"rd\", \"ate\", \"t\", \"ska\", \"boar\"]))"
      ],
      "metadata": {
        "id": "xLjbKRVJeOI_",
        "colab": {
          "base_uri": "https://localhost:8080/"
        },
        "outputId": "5dc77c67-61f8-4c83-8e86-736484d46c88"
      },
      "execution_count": 17,
      "outputs": [
        {
          "output_type": "stream",
          "name": "stdout",
          "text": [
            "[<map object at 0x7f5e1bb1b050>, <map object at 0x7f5e1bb1b210>, <map object at 0x7f5e1bb1b3d0>]\n",
            "[<map object at 0x7f5e1bb1b250>, <map object at 0x7f5e1bb1b1d0>, <map object at 0x7f5e1bb1b5d0>]\n",
            "[<map object at 0x7f5e1bb1b250>, <map object at 0x7f5e1bb1b3d0>]\n"
          ]
        }
      ]
    },
    {
      "cell_type": "code",
      "source": [
        "#Memoized solution\n",
        "\n",
        "def allconstruct(target, wordbank, memo={}):\n",
        "  if target in memo:\n",
        "    return memo[target]\n",
        "  if target == \"\":\n",
        "    return [[]]\n",
        "\n",
        "  result = []\n",
        "  for word in wordbank:\n",
        "    if target.startswith(word):\n",
        "      suffix= target[len(word):]\n",
        "      suffix_ways= allconstruct(suffix, wordbank, memo)\n",
        "      #target_ways= suffix_ways.map(lambda x: [word, x[:]])\n",
        "      target_ways= map(word, suffix_ways[:])\n",
        "      result.append(target_ways)\n",
        "\n",
        "  memo[target]= result\n",
        "  return result\n",
        "\n",
        "print(allconstruct(\"purple\", [\"purp\", \"p\", \"ur\", \"le\", \"purpl\"]))\n",
        "print(allconstruct(\"abcdef\", [\"ab\", \"abc\", \"cd\", \"def\", \"abcd\", \"ef\", \"c\"]))\n",
        "print(allconstruct(\"skateboard\", [\"sk\", \"bo\", \"rd\", \"ate\", \"t\", \"ska\", \"boar\"]))\n",
        "print(allconstruct(\"aaaaaaaaaaaaaaaaaaaaaaaaaaaaaaaz\", [\"a\", \"aa\", \"aaa\", \"aaaa\", \"aaaaa\"]))"
      ],
      "metadata": {
        "colab": {
          "base_uri": "https://localhost:8080/"
        },
        "id": "Q3-yuMtyEYs7",
        "outputId": "28e430ef-08e0-42c0-9ade-d37368a758d2"
      },
      "execution_count": 18,
      "outputs": [
        {
          "output_type": "stream",
          "name": "stdout",
          "text": [
            "[<map object at 0x7f5e1bb1e710>, <map object at 0x7f5e1bb1e950>, <map object at 0x7f5e1bb1ea10>]\n",
            "[<map object at 0x7f5e1bb33050>, <map object at 0x7f5e1bb33150>, <map object at 0x7f5e1bb33210>]\n",
            "[<map object at 0x7f5e1bb33690>, <map object at 0x7f5e1bb33890>]\n",
            "[<map object at 0x7f5e1bb2b790>, <map object at 0x7f5e1bb2b850>, <map object at 0x7f5e1bb2b910>, <map object at 0x7f5e1bb2b9d0>, <map object at 0x7f5e1bb2ba90>]\n"
          ]
        }
      ]
    },
    {
      "cell_type": "markdown",
      "source": [
        "# Tabulation Solutions"
      ],
      "metadata": {
        "id": "5WELuZBimTa1"
      }
    },
    {
      "cell_type": "markdown",
      "source": [
        "## FIB  Tabulation \n",
        "**Problem Statement**: Write a function `fib(n)` that takes in a number as an argument. The function should return the n-th number of the fibonacci sequence. \n",
        "\n",
        "The 0th number of the sequence is 0\n",
        "The 1st number of the sequence is 1.\n",
        "\n",
        "To geneerate the nect number of the sequence, we sum the previous two. "
      ],
      "metadata": {
        "id": "DTQvlg2xPUmC"
      }
    },
    {
      "cell_type": "code",
      "source": [
        "def fib(n, memo= {}):\n",
        "  table= [0] * (n +2)\n",
        "  table[1] = 1\n",
        "  for i in range(len(table)-2):\n",
        "    table[i+1] += table[i]\n",
        "    table[i+2] += table[i]\n",
        "  return table[n]\n",
        "\n",
        "print(fib(6))\n",
        "print(fib(7))\n",
        "print(fib(10))\n",
        "print(fib(50))\n",
        "\n",
        "#Time complexity= o(n)\n",
        "#Space Complexity= o(n)"
      ],
      "metadata": {
        "colab": {
          "base_uri": "https://localhost:8080/"
        },
        "id": "w7IilLvOL9Sk",
        "outputId": "c5191918-f590-4207-c280-b04dcb3999b9"
      },
      "execution_count": 19,
      "outputs": [
        {
          "output_type": "stream",
          "name": "stdout",
          "text": [
            "8\n",
            "13\n",
            "55\n",
            "12586269025\n"
          ]
        }
      ]
    },
    {
      "cell_type": "markdown",
      "source": [
        "# Grid Traveler Tabulation\n",
        "**Problem Statement**: Says you are a traveler on a 2D grid. You begin in the top left corner and your goal is to travel to the bottom-right corner. You may only move down or right. \n",
        "\n",
        "In how many ways can you travel to the goal on a grid with dimensions m*n?"
      ],
      "metadata": {
        "id": "sezYYnSbcI1K"
      }
    },
    {
      "cell_type": "code",
      "source": [
        "def gridtraveler(m,n):\n",
        "  table= [ [0]* (n+1) for i in range(m+1) ]\n",
        "  table[1][1]=1\n",
        "  for i in range(m-1):\n",
        "    for j in range(n-1):\n",
        "      current= table[i][j]\n",
        "      table[i][j+1] += current\n",
        "      table[i+1][j] += current\n",
        "  return table[m][n]\n",
        "\n",
        "print(gridtraveler(1, 2))\n",
        "print(gridtraveler(2, 3))\n",
        "print(gridtraveler(3, 2))\n",
        "print(gridtraveler(3, 3))\n",
        "print(gridtraveler(18, 18))\n",
        "#Time= O(nm)\n",
        "#Space= O(nm)"
      ],
      "metadata": {
        "colab": {
          "base_uri": "https://localhost:8080/"
        },
        "id": "B8xSFrykUTFV",
        "outputId": "c945bc62-c7a3-4545-c885-175193c1ee20"
      },
      "execution_count": 20,
      "outputs": [
        {
          "output_type": "stream",
          "name": "stdout",
          "text": [
            "0\n",
            "0\n",
            "0\n",
            "0\n",
            "0\n"
          ]
        }
      ]
    },
    {
      "cell_type": "markdown",
      "source": [
        "## Tabulation Recipe\n",
        "* Visualize the problem as a table\n",
        "* Size the table based on the inputs\n",
        "* Initialize the table with default values\n",
        "* Seed the trivial answer into the table.\n",
        "* Iterate through the table.'\n",
        "* Fill further positions based on the current position."
      ],
      "metadata": {
        "id": "yxnlAIeA6l58"
      }
    },
    {
      "cell_type": "markdown",
      "source": [
        "## Cansum Tabulation.\n",
        "The same as above."
      ],
      "metadata": {
        "id": "TkLcv6Sh7JOf"
      }
    },
    {
      "cell_type": "code",
      "source": [
        "def cansum(targetsum, numbers):\n",
        "  table= [False] *(targetsum + targetsum)\n",
        "  table[0] = True\n",
        "  for i in range(targetsum):\n",
        "    if table[i]== True:\n",
        "      for num in numbers:\n",
        "        table[i + num]= True\n",
        "  return table[targetsum]\n",
        "\n",
        "\n",
        "print(cansum(7, [2,3]))\n",
        "print(cansum(7, [5, 3, 4, 7]))\n",
        "print(cansum(7, [2,4]))\n",
        "print(cansum(8, [2,3,5]))\n",
        "print(cansum(300, [7, 14]))\n",
        "\n",
        "#time comp= o(nm)\n",
        "#space comp= o(m)"
      ],
      "metadata": {
        "colab": {
          "base_uri": "https://localhost:8080/"
        },
        "id": "4uX_VnJ_e_nC",
        "outputId": "b03d763b-b0a3-4c47-e80d-fd8c0ec508e6"
      },
      "execution_count": 21,
      "outputs": [
        {
          "output_type": "stream",
          "name": "stdout",
          "text": [
            "True\n",
            "True\n",
            "False\n",
            "True\n",
            "False\n"
          ]
        }
      ]
    },
    {
      "cell_type": "markdown",
      "source": [
        "## Howsum Tabulation\n",
        "Same as before."
      ],
      "metadata": {
        "id": "ICiCmL7xX9Q1"
      }
    },
    {
      "cell_type": "code",
      "source": [
        "#Howsum Tabulation\n",
        "def howsum(targetsum, numbers):\n",
        "  table= [None] * (targetsum + targetsum)\n",
        "  table[0]= []\n",
        "\n",
        "  for i in range(targetsum):\n",
        "    if table[i] != None:\n",
        "      for num in numbers:\n",
        "        table[i + num] = table[i][:] + [num]\n",
        "\n",
        "  return table[targetsum]\n",
        "\n",
        "print(howsum(7, [2,3]))\n",
        "print(howsum(7, [5, 3, 4, 7]))\n",
        "print(howsum(7, [2,4]))\n",
        "print(howsum(8, [2,3,5]))\n",
        "print(howsum(300, [7, 14]))\n",
        "#Time comp= o(m~2 * m)\n",
        "#space comp= 0(m~2)"
      ],
      "metadata": {
        "colab": {
          "base_uri": "https://localhost:8080/"
        },
        "id": "RPVEpHzA9-7f",
        "outputId": "f84e7a6f-7f19-4fa4-a983-7e963bb3d00f"
      },
      "execution_count": 22,
      "outputs": [
        {
          "output_type": "stream",
          "name": "stdout",
          "text": [
            "[3, 2, 2]\n",
            "[4, 3]\n",
            "None\n",
            "[2, 2, 2, 2]\n",
            "None\n"
          ]
        }
      ]
    },
    {
      "cell_type": "markdown",
      "source": [
        "## Best Sum Tabulation\n",
        "Same as before"
      ],
      "metadata": {
        "id": "D7geYtpwYNX-"
      }
    },
    {
      "cell_type": "code",
      "source": [
        "def bestsum(targetsum, numbers):\n",
        "  table= [None] * (targetsum + targetsum)\n",
        "  table[0]= []\n",
        "  for i in range(targetsum):\n",
        "    if table[i] != None:\n",
        "      for num in numbers:\n",
        "        combo = table[i][:] + [num]\n",
        "        if table[i + num] == None or len(table[i + num]) > len(combo):\n",
        "          table[i + num]= combo\n",
        "  return table[targetsum]\n",
        "  \n",
        "\n",
        "print(bestsum(7, [5, 3, 4, 7]))\n",
        "print(bestsum(8, [2,3,5]))\n",
        "print(bestsum(100, [1, 2, 5, 25]))"
      ],
      "metadata": {
        "colab": {
          "base_uri": "https://localhost:8080/"
        },
        "id": "kYMqXVVJNh5E",
        "outputId": "c7c0af81-1b55-434d-98ae-77b50f1da6c8"
      },
      "execution_count": 23,
      "outputs": [
        {
          "output_type": "stream",
          "name": "stdout",
          "text": [
            "[7]\n",
            "[3, 5]\n",
            "[25, 25, 25, 25]\n"
          ]
        }
      ]
    },
    {
      "cell_type": "markdown",
      "source": [
        "## Canconstruct Tabulation\n",
        "Same as before"
      ],
      "metadata": {
        "id": "zkj69HRQgxpz"
      }
    },
    {
      "cell_type": "code",
      "source": [
        "def maxtime(inputime):\n",
        "  s= list(inputime)\n",
        "  if s[0] == \"?\":\n",
        "    if s[1] <= \"3\" or s[1] == \"?\":\n",
        "      s[0] = \"2\"\n",
        "    else:\n",
        "      s[0] = \"1\"\n",
        "  if s[1] == \"?\":\n",
        "    if s[0] != \"2\":\n",
        "      s[1] = \"9\"\n",
        "    else:\n",
        "      s[1] = \"3\"\n",
        "  if s[3] == \"?\":\n",
        "    s[3] = \"5\"\n",
        "  if s[4] == \"?\":\n",
        "    s[4] = \"9\"\n",
        "  s= ''.join(s)\n",
        "  return s\n",
        "\n",
        "print(maxtime(\"??:??\"))\n",
        "print(maxtime(\"?4:5?\"))\n",
        "print(maxtime(\"23:5?\"))\n",
        "print(maxtime(\"2?:22\"))\n",
        "print(maxtime(\"0?:??\"))"
      ],
      "metadata": {
        "id": "i_EbwSnmbDVU",
        "colab": {
          "base_uri": "https://localhost:8080/"
        },
        "outputId": "b8dc093f-710d-4d89-9c0c-f7cebe5ca323"
      },
      "execution_count": 24,
      "outputs": [
        {
          "output_type": "stream",
          "name": "stdout",
          "text": [
            "23:59\n",
            "14:59\n",
            "23:59\n",
            "23:22\n",
            "09:59\n"
          ]
        }
      ]
    },
    {
      "cell_type": "markdown",
      "source": [
        "# Other Data Structures Questions"
      ],
      "metadata": {
        "id": "-tEi9iFDmsNE"
      }
    },
    {
      "cell_type": "markdown",
      "source": [
        "## Most Booked Hotel Room"
      ],
      "metadata": {
        "id": "coLL7cAJQGi2"
      }
    },
    {
      "cell_type": "code",
      "source": [
        "import collections\n",
        "\n",
        "def most_booked(hotel):\n",
        "  count_hotel= collections.Counter(hotel)\n",
        "  booking_max= max(count_hotel.values())\n",
        "  find_max= sorted([k[1:] for k, v in count_hotel.items() if v == booking_max])[0]\n",
        "  return ''.join(find_max)\n",
        "print(most_booked([\"+9A\", \"+3E\", \"-9A\", \"+4F\", \"+9A\", \"-3E\", \"+3E\"]))"
      ],
      "metadata": {
        "id": "f0AXyU9BBEuD",
        "colab": {
          "base_uri": "https://localhost:8080/"
        },
        "outputId": "7e5684ab-bee0-4e65-fd71-de88bb5da0e4"
      },
      "execution_count": 25,
      "outputs": [
        {
          "output_type": "stream",
          "name": "stdout",
          "text": [
            "3E\n"
          ]
        }
      ]
    },
    {
      "cell_type": "markdown",
      "source": [
        "## Search an element in an unsorted array using minimum number of comparisons."
      ],
      "metadata": {
        "id": "BW-iJWbHNqDX"
      }
    },
    {
      "cell_type": "code",
      "source": [
        "def mini_compare(arr, x):\n",
        "  n= len(arr)\n",
        "  if arr[n-1] == x:\n",
        "    return \"found\"\n",
        "  backup= arr[n-1]\n",
        "  arr[n-1] = x\n",
        "  for i in range(n):\n",
        "    if arr[i] == x:\n",
        "      arr[n-1]= backup\n",
        "      if i < n-1:\n",
        "        return \"found\"\n",
        "      else:\n",
        "        return \"not found\"\n",
        "    i+=1\n",
        "\n",
        "arr = [4, 6, 1, 5, 8]\n",
        "x= 10\n",
        "print(mini_compare(arr, x))"
      ],
      "metadata": {
        "id": "AeUmd4WWQihz",
        "colab": {
          "base_uri": "https://localhost:8080/"
        },
        "outputId": "122c517f-b351-40d1-db1b-2faf8c3b890a"
      },
      "execution_count": 26,
      "outputs": [
        {
          "output_type": "stream",
          "name": "stdout",
          "text": [
            "not found\n"
          ]
        }
      ]
    },
    {
      "cell_type": "markdown",
      "source": [
        "## Merge two sorted lists of different lengths. "
      ],
      "metadata": {
        "id": "HN5Ro5uVZIzh"
      }
    },
    {
      "cell_type": "code",
      "source": [
        "def merge_lists(A, B):\n",
        "  i, j= 0,0\n",
        "  merged= []\n",
        "  while i + j < len(A) + len(B):\n",
        "    if (i != len(A) and (j == len(B) or A[i] < B[j])):\n",
        "      merged.append(A[i])\n",
        "      i+=1\n",
        "    else:\n",
        "      merged.append(B[j])\n",
        "      j+=1\n",
        "  return merged\n",
        "  \n",
        "A= [299, 399, 499]\n",
        "B= [1, 3, 5, 7 , 8, 10]\n",
        "print(merge_lists(A, B))"
      ],
      "metadata": {
        "colab": {
          "base_uri": "https://localhost:8080/"
        },
        "id": "VH5xGnwgVMc7",
        "outputId": "45418cf8-8ab0-4b83-a001-d8340e92d2ba"
      },
      "execution_count": 27,
      "outputs": [
        {
          "output_type": "stream",
          "name": "stdout",
          "text": [
            "[1, 3, 5, 7, 8, 10, 299, 399, 499]\n"
          ]
        }
      ]
    },
    {
      "cell_type": "markdown",
      "source": [
        "## Merge a 2d array of sorted lists with different lengths"
      ],
      "metadata": {
        "id": "YwGj5Rghl9lt"
      }
    },
    {
      "cell_type": "code",
      "source": [
        "def mergearrays(arr):\n",
        "  arr_s= []\n",
        "  while len(arr) != 1:\n",
        "    arr_s[:] = []\n",
        "    for i in range(0, len(arr), 2):\n",
        "      if i == len(arr)-1:\n",
        "        arr_s.append(arr[i])\n",
        "        #print(arr_s)\n",
        "      else:\n",
        "        arr_s.append(merge_lists(arr[i], arr[i+1]))\n",
        "        #print(arr_s)\n",
        "    arr= arr_s[:]\n",
        "    print(arr)\n",
        "  return arr[0]\n",
        "arr = [[3, 13], [8, 10, 11],[9, 15], [7, 21]]\n",
        "print(mergearrays(arr))"
      ],
      "metadata": {
        "colab": {
          "base_uri": "https://localhost:8080/"
        },
        "id": "zvOH0ypdw02g",
        "outputId": "9f2ff40f-d8ba-4466-a1c2-99899c7e25cd"
      },
      "execution_count": 28,
      "outputs": [
        {
          "output_type": "stream",
          "name": "stdout",
          "text": [
            "[[3, 8, 10, 11, 13], [7, 9, 15, 21]]\n",
            "[[3, 7, 8, 9, 10, 11, 13, 15, 21]]\n",
            "[3, 7, 8, 9, 10, 11, 13, 15, 21]\n"
          ]
        }
      ]
    },
    {
      "cell_type": "markdown",
      "source": [
        "# Sorting Algorithms"
      ],
      "metadata": {
        "id": "Y5cKoj1T-wo5"
      }
    },
    {
      "cell_type": "code",
      "source": [
        "arr= [17, 3, 13, 22, 6, 4, 54]"
      ],
      "metadata": {
        "id": "QBzwaEAcydts"
      },
      "execution_count": 29,
      "outputs": []
    },
    {
      "cell_type": "markdown",
      "source": [
        "### Insertion Sort"
      ],
      "metadata": {
        "id": "ce8i6ae-_Ay4"
      }
    },
    {
      "cell_type": "code",
      "source": [
        "def insertion_sort(arr):\n",
        "  for i in range(len(arr)):\n",
        "    j= i-1\n",
        "    key= arr[i]\n",
        "    while (j>=0) and arr[j] > key:\n",
        "      arr[j+1] = arr[j]\n",
        "      j-=1\n",
        "    arr[j+1] = key\n",
        "  return arr\n",
        "\n",
        "print(insertion_sort(arr))"
      ],
      "metadata": {
        "colab": {
          "base_uri": "https://localhost:8080/"
        },
        "id": "9jmvCp2I-_nj",
        "outputId": "736259e7-e65e-4271-f68f-72f75960bc4d"
      },
      "execution_count": 30,
      "outputs": [
        {
          "output_type": "stream",
          "name": "stdout",
          "text": [
            "[3, 4, 6, 13, 17, 22, 54]\n"
          ]
        }
      ]
    },
    {
      "cell_type": "markdown",
      "source": [
        "### Selection Sort"
      ],
      "metadata": {
        "id": "8OE_aPJJ_4e2"
      }
    },
    {
      "cell_type": "code",
      "source": [
        "def selection_sort(arr):\n",
        "  for i in range(len(arr)):\n",
        "    min_i= i\n",
        "    for j in range(i+1, len(arr)):\n",
        "      if arr[j] > arr[min_i]:\n",
        "        min_i=j\n",
        "      arr[j], arr[min_i] = arr[min_i], arr[j]\n",
        "  return arr\n",
        "\n",
        "print(selection_sort(arr))"
      ],
      "metadata": {
        "colab": {
          "base_uri": "https://localhost:8080/"
        },
        "id": "VV9b4osi_uUd",
        "outputId": "d56d98ee-220c-4c9d-aabd-4838d567f749"
      },
      "execution_count": 31,
      "outputs": [
        {
          "output_type": "stream",
          "name": "stdout",
          "text": [
            "[3, 4, 6, 13, 17, 22, 54]\n"
          ]
        }
      ]
    },
    {
      "cell_type": "markdown",
      "source": [
        "### Bubble Sort"
      ],
      "metadata": {
        "id": "GkuEMyv9BXDb"
      }
    },
    {
      "cell_type": "code",
      "source": [
        "def bubble_sort(arr):\n",
        "  n= len(arr)\n",
        "  for i in range(n):\n",
        "    for j in range(n-i-1):\n",
        "      if arr[j] > arr[j+1]:\n",
        "        arr[j], arr[j+1]= arr[j+1], arr[j]\n",
        "  return arr\n",
        "\n",
        "print(bubble_sort(arr))"
      ],
      "metadata": {
        "colab": {
          "base_uri": "https://localhost:8080/"
        },
        "id": "4A42xefwAvwZ",
        "outputId": "dba2ebd8-2646-4cd3-9d25-80e17a24a325"
      },
      "execution_count": 32,
      "outputs": [
        {
          "output_type": "stream",
          "name": "stdout",
          "text": [
            "[3, 4, 6, 13, 17, 22, 54]\n"
          ]
        }
      ]
    },
    {
      "cell_type": "markdown",
      "source": [
        "### Quick Sort"
      ],
      "metadata": {
        "id": "iuewlD21CC8e"
      }
    },
    {
      "cell_type": "code",
      "source": [
        "def quick_sort(arr):\n",
        "  if len(arr) > 1:\n",
        "    pivot= int(len(arr)/2)\n",
        "    border= arr[pivot]\n",
        "    left= [i for i in arr if i < border]\n",
        "    mid= [i for i in arr if i == border]\n",
        "    right= [ i for i in arr if i > border]\n",
        "    result= quick_sort(left) + mid + quick_sort(right)\n",
        "    return result\n",
        "  else:\n",
        "    return arr\n",
        "\n",
        "print(quick_sort(arr))"
      ],
      "metadata": {
        "colab": {
          "base_uri": "https://localhost:8080/"
        },
        "id": "Vbvk9LDBB_qg",
        "outputId": "a5490187-59de-4ea0-a200-21c0684f9adb"
      },
      "execution_count": 33,
      "outputs": [
        {
          "output_type": "stream",
          "name": "stdout",
          "text": [
            "[3, 4, 6, 13, 17, 22, 54]\n"
          ]
        }
      ]
    },
    {
      "cell_type": "markdown",
      "source": [
        "### Merge Sort"
      ],
      "metadata": {
        "id": "1LXSI-1KDJj_"
      }
    },
    {
      "cell_type": "code",
      "source": [
        "def merge(left, right):\n",
        "  if len(left) == 0:\n",
        "    return right\n",
        "  if len(right) == 0:\n",
        "    return left\n",
        "  \n",
        "  result= []\n",
        "  index_left= index_right= 0\n",
        "  while len(result) < len(left) + len(right):\n",
        "    if left[index_left] <= right[index_right]:\n",
        "      result.append(left[index_left])\n",
        "      index_left +=1\n",
        "    else:\n",
        "      result.append(right[index_right])\n",
        "      index_right +=1\n",
        "    if index_right == len(right):\n",
        "      result += left[index_left]\n",
        "      break\n",
        "    if index_left == len(left):\n",
        "      result += right[index_right:]\n",
        "      break\n",
        "  return result\n",
        "\n",
        "def merge_sort(arr):\n",
        "  if len(arr) < 2:\n",
        "    return arr\n",
        "  mid= len(arr)//2\n",
        "  left= merge_sort(arr[:mid])\n",
        "  right= merge_sort(arr[mid:])\n",
        "  return merge(left, right)\n",
        "\n",
        "print(merge_sort(arr))"
      ],
      "metadata": {
        "colab": {
          "base_uri": "https://localhost:8080/"
        },
        "id": "W82jJ1BnDExe",
        "outputId": "0fb6ee0f-dd70-47e9-fc97-930c90735cf1"
      },
      "execution_count": 34,
      "outputs": [
        {
          "output_type": "stream",
          "name": "stdout",
          "text": [
            "[3, 4, 6, 13, 17, 22, 54]\n"
          ]
        }
      ]
    }
  ]
}